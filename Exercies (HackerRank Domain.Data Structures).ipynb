{
 "cells": [
  {
   "cell_type": "code",
   "execution_count": 21,
   "metadata": {
    "collapsed": false
   },
   "outputs": [
    {
     "name": "stdout",
     "output_type": "stream",
     "text": [
      "1 1 1 0 0 0\n",
      "0 1 0 0 0 0\n",
      "1 1 1 0 0 0\n",
      "0 0 2 4 4 0\n",
      "0 0 0 2 0 0\n",
      "0 0 1 2 4 0\n",
      "19\n"
     ]
    }
   ],
   "source": [
    "#2D Array - DS\n",
    "'''\n",
    "1 1 1 0 0 0\n",
    "0 1 0 0 0 0\n",
    "1 1 1 0 0 0\n",
    "0 0 2 4 4 0\n",
    "0 0 0 2 0 0\n",
    "0 0 1 2 4 0\n",
    "'''\n",
    "full, hourglasssums= [], []\n",
    "bottom = 6\n",
    "for i in range(bottom):\n",
    "    temp = []\n",
    "    temp = map(int,raw_input().strip().split())\n",
    "    full.append(temp)\n",
    "for i in range(0,(bottom-2)):\n",
    "    for j in range((len(full[0]) - 2)):\n",
    "        hourglasssums.append(full[i][j] + full[i][j+1] + full[i][j+2] + \n",
    "                             full[i+1][j+1] + full[i+2][j+2] + full[i+2][j] + full[i+2][j+1])\n",
    "print max(hourglasssums)"
   ]
  },
  {
   "cell_type": "code",
   "execution_count": 24,
   "metadata": {
    "collapsed": false
   },
   "outputs": [
    {
     "name": "stdout",
     "output_type": "stream",
     "text": [
      "4\n",
      "aba\n",
      "baba\n",
      "aba\n",
      "xzxb\n",
      "3\n",
      "aba\n",
      "2\n",
      "xzxb\n",
      "1\n",
      "ab\n",
      "0\n"
     ]
    }
   ],
   "source": [
    "#Spares Arrays\n",
    "from collections import Counter\n",
    "n = int(raw_input())\n",
    "temp = []\n",
    "for i in range(n):\n",
    "    temp.append(str(raw_input()))\n",
    "counterarray = Counter(temp)\n",
    "n2 = int(raw_input())\n",
    "for i in range(n2):\n",
    "    print counterarray[str(raw_input())]"
   ]
  },
  {
   "cell_type": "code",
   "execution_count": 14,
   "metadata": {
    "collapsed": false
   },
   "outputs": [
    {
     "name": "stdout",
     "output_type": "stream",
     "text": [
      "0\n"
     ]
    }
   ],
   "source": []
  },
  {
   "cell_type": "code",
   "execution_count": null,
   "metadata": {
    "collapsed": true
   },
   "outputs": [],
   "source": []
  }
 ],
 "metadata": {
  "kernelspec": {
   "display_name": "Python 2",
   "language": "python",
   "name": "python2"
  },
  "language_info": {
   "codemirror_mode": {
    "name": "ipython",
    "version": 2
   },
   "file_extension": ".py",
   "mimetype": "text/x-python",
   "name": "python",
   "nbconvert_exporter": "python",
   "pygments_lexer": "ipython2",
   "version": "2.7.11"
  }
 },
 "nbformat": 4,
 "nbformat_minor": 0
}
