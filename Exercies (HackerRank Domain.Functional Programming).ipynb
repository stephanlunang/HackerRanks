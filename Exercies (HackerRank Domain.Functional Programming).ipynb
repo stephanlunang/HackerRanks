{
 "cells": [
  {
   "cell_type": "code",
   "execution_count": 20,
   "metadata": {
    "collapsed": false
   },
   "outputs": [
    {
     "name": "stdout",
     "output_type": "stream",
     "text": [
      "8\n",
      "6676 3216 4063 8373 423 586 8850 6762 \n",
      "6762 8850 586 423 8373 4063 3216 6676\n"
     ]
    }
   ],
   "source": [
    "#Array DS\n",
    "n = int(raw_input())    #raw input\n",
    "l = map(str, raw_input().split(\" \")) #string cast to allow for join later\n",
    "if l[-1] == '': l = l[0:n]           #removes unnecessary extra space \n",
    "print (\" \".join(l[::-1])) #reverse with [::-1] then join with space."
   ]
  },
  {
   "cell_type": "code",
   "execution_count": null,
   "metadata": {
    "collapsed": true
   },
   "outputs": [],
   "source": []
  },
  {
   "cell_type": "code",
   "execution_count": null,
   "metadata": {
    "collapsed": true
   },
   "outputs": [],
   "source": []
  },
  {
   "cell_type": "code",
   "execution_count": null,
   "metadata": {
    "collapsed": true
   },
   "outputs": [],
   "source": []
  },
  {
   "cell_type": "code",
   "execution_count": null,
   "metadata": {
    "collapsed": true
   },
   "outputs": [],
   "source": []
  },
  {
   "cell_type": "code",
   "execution_count": null,
   "metadata": {
    "collapsed": true
   },
   "outputs": [],
   "source": []
  },
  {
   "cell_type": "code",
   "execution_count": null,
   "metadata": {
    "collapsed": true
   },
   "outputs": [],
   "source": []
  },
  {
   "cell_type": "code",
   "execution_count": null,
   "metadata": {
    "collapsed": true
   },
   "outputs": [],
   "source": []
  },
  {
   "cell_type": "code",
   "execution_count": 7,
   "metadata": {
    "collapsed": false
   },
   "outputs": [
    {
     "name": "stdout",
     "output_type": "stream",
     "text": [
      "22 131\n",
      "1\n"
     ]
    }
   ],
   "source": [
    "#Computing the Greatest Common Divisor\n",
    "def GCD(x,y):\n",
    "    while x != y:\n",
    "        #print x, '\\t', y\n",
    "        if x > y: x = x - y\n",
    "        else:     y = y -x\n",
    "    return y\n",
    "inp = list(map(int,raw_input().split(\" \")))\n",
    "x, y = inp[0], inp[1]\n",
    "print GCD(x,y)"
   ]
  },
  {
   "cell_type": "code",
   "execution_count": 20,
   "metadata": {
    "collapsed": false
   },
   "outputs": [
    {
     "name": "stdout",
     "output_type": "stream",
     "text": [
      "0   0\n",
      "1   1\n",
      "2   1\n",
      "3   2\n",
      "4   3\n",
      "5   5\n",
      "6   8\n",
      "7   13\n",
      "8   21\n",
      "9   34\n",
      "10   55\n",
      "11   89\n",
      "12   144\n",
      "13   233\n",
      "14   377\n",
      "15   610\n",
      "16   987\n",
      "17   1597\n",
      "18   2584\n",
      "19   4181\n"
     ]
    }
   ],
   "source": [
    "#Fibonacci Numbers\n",
    "#placement = int(raw_input())\n",
    "def fibonacci(n):\n",
    "    if n == 0 or n == 1: return n\n",
    "    else: return fibonacci(n-1) + fibonacci(n-2)\n",
    "#print fibonacci(placement)\n",
    "\n",
    "for i in range(20):\n",
    "    print i, ' ', fibonacci(i)"
   ]
  },
  {
   "cell_type": "code",
   "execution_count": null,
   "metadata": {
    "collapsed": true
   },
   "outputs": [],
   "source": []
  }
 ],
 "metadata": {
  "kernelspec": {
   "display_name": "Python 2",
   "language": "python",
   "name": "python2"
  },
  "language_info": {
   "codemirror_mode": {
    "name": "ipython",
    "version": 2
   },
   "file_extension": ".py",
   "mimetype": "text/x-python",
   "name": "python",
   "nbconvert_exporter": "python",
   "pygments_lexer": "ipython2",
   "version": "2.7.10"
  }
 },
 "nbformat": 4,
 "nbformat_minor": 0
}
