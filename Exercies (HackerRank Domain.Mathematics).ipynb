{
 "cells": [
  {
   "cell_type": "code",
   "execution_count": 13,
   "metadata": {
    "collapsed": false
   },
   "outputs": [
    {
     "name": "stdout",
     "output_type": "stream",
     "text": [
      "1\n",
      "1 1 1 1\n",
      "1 1\n"
     ]
    }
   ],
   "source": [
    "#Find Point\n",
    "T = int(raw_input())\n",
    "for i in range(T):\n",
    "    inp = list(map(int, raw_input().split()))\n",
    "    if (inp[2] - inp[0]) == 0: print inp[0], inp[1]\n",
    "    else:\n",
    "        m = (float(inp[3]) - float(inp[1]))/(float(inp[2])-float(inp[0]))\n",
    "        b = inp[1] - m*inp[0]\n",
    "        x = inp[2] + (inp[2]-inp[0])\n",
    "        y = m*x + b\n",
    "        print x, int(y)"
   ]
  },
  {
   "cell_type": "code",
   "execution_count": 17,
   "metadata": {
    "collapsed": false
   },
   "outputs": [
    {
     "name": "stdout",
     "output_type": "stream",
     "text": [
      "1\n",
      "2\n",
      "3\n"
     ]
    }
   ],
   "source": [
    "#Minimum Draws\n",
    "T = int(raw_input()) \n",
    "for i in range(T): print int(raw_input()) + 1"
   ]
  },
  {
   "cell_type": "code",
   "execution_count": 20,
   "metadata": {
    "collapsed": false
   },
   "outputs": [
    {
     "name": "stdout",
     "output_type": "stream",
     "text": [
      "9\n",
      "1 2 3 4 5 6 7 8 9\n",
      "9\n",
      "10 1 2 3 11 21 55 6 8\n",
      "13\n"
     ]
    }
   ],
   "source": [
    "#union\n",
    "NE = int(raw_input())\n",
    "E = set(map(int, raw_input().split()))\n",
    "NF = int(raw_input())\n",
    "F = set(map(int, raw_input().split()))\n",
    "print len(E.union(F))"
   ]
  },
  {
   "cell_type": "code",
   "execution_count": null,
   "metadata": {
    "collapsed": true
   },
   "outputs": [],
   "source": []
  }
 ],
 "metadata": {
  "kernelspec": {
   "display_name": "Python 2",
   "language": "python",
   "name": "python2"
  },
  "language_info": {
   "codemirror_mode": {
    "name": "ipython",
    "version": 2
   },
   "file_extension": ".py",
   "mimetype": "text/x-python",
   "name": "python",
   "nbconvert_exporter": "python",
   "pygments_lexer": "ipython2",
   "version": "2.7.10"
  }
 },
 "nbformat": 4,
 "nbformat_minor": 0
}
