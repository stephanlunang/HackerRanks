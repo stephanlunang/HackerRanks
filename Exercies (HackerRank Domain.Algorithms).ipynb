{
 "cells": [
  {
   "cell_type": "code",
   "execution_count": 5,
   "metadata": {
    "collapsed": false
   },
   "outputs": [
    {
     "name": "stdout",
     "output_type": "stream",
     "text": [
      "2\n",
      "1 2\n",
      "[1, 2]\n",
      "3\n"
     ]
    }
   ],
   "source": [
    "#Sum Fxn\n",
    "n = int(raw_input())\n",
    "inp = list(map(int, raw_input().split(\" \")))\n",
    "print inp\n",
    "def printsum(inp):\n",
    "    summ = 0\n",
    "    for i in inp: summ = summ + i\n",
    "    print summ\n",
    "printsum(inp)"
   ]
  },
  {
   "cell_type": "code",
   "execution_count": 15,
   "metadata": {
    "collapsed": false
   },
   "outputs": [
    {
     "name": "stdout",
     "output_type": "stream",
     "text": [
      "3\n",
      "11 2 4\n",
      "4 5 6\n",
      "10 8 -12\n",
      "first coord:  0 \t0\n",
      "second coord:  0 \t2\n",
      "first coord:  1 \t1\n",
      "second coord:  1 \t1\n",
      "first coord:  2 \t2\n",
      "second coord:  2 \t0\n",
      "15\n"
     ]
    }
   ],
   "source": [
    "#Difference of diagonal sums\n",
    "n = int(raw_input())\n",
    "grid = []\n",
    "ltrb, rtlb = 0, 0\n",
    "for i in range(n): grid.append(list(map(int, raw_input().split(\" \"))))\n",
    "for i in range(n):\n",
    "    op = n - i - 1\n",
    "    ltrb = ltrb + grid[i][i]\n",
    "    rtlb = rtlb + grid[i][op]\n",
    "    print 'first coord: ', i, '\\t', i\n",
    "    print 'second coord: ', i, '\\t', op\n",
    "    #print ltrb, '\\t', rtlb\n",
    "print abs(ltrb - rtlb)"
   ]
  },
  {
   "cell_type": "code",
   "execution_count": 21,
   "metadata": {
    "collapsed": false
   },
   "outputs": [
    {
     "name": "stdout",
     "output_type": "stream",
     "text": [
      "3\n",
      "1 2 -1\n",
      "0.667\n",
      "0.333\n",
      "0.000\n"
     ]
    }
   ],
   "source": [
    "#plus minus precent\n",
    "n = int(raw_input())\n",
    "inp = list(map(float, raw_input().split(\" \")))\n",
    "pos, neg, zer = 0, 0, 0\n",
    "for i in inp:\n",
    "    if i > 0:\n",
    "        pos = pos + 1\n",
    "    elif i < 0:\n",
    "        neg = neg + 1\n",
    "    else:\n",
    "        zer = zer + 1\n",
    "print \"%.3f\" % (pos/float(n))\n",
    "print \"%.3f\" % (neg/float(n))\n",
    "print \"%.3f\" % (zer/float(n))"
   ]
  },
  {
   "cell_type": "code",
   "execution_count": 1,
   "metadata": {
    "collapsed": false
   },
   "outputs": [
    {
     "name": "stdout",
     "output_type": "stream",
     "text": [
      "10\n",
      "                  #\n",
      "                # #\n",
      "              # # #\n",
      "            # # # #\n",
      "          # # # # #\n",
      "        # # # # # #\n",
      "      # # # # # # #\n",
      "    # # # # # # # #\n",
      "  # # # # # # # # #\n",
      "# # # # # # # # # #\n"
     ]
    }
   ],
   "source": [
    "#Staircase\n",
    "def draw_staircase (): #Right justified staircase.  Enter number of steps wanted.\n",
    "    n = int(raw_input())\n",
    "    for i in range(n):\n",
    "        h = []\n",
    "        x = n - i - 1\n",
    "        #print n, '\\t', x\n",
    "        for j in range(x): h.append(\" \") \n",
    "        for k in range(x, n):\n",
    "            h.append(\"#\")\n",
    "            l = \" \".join(h)\n",
    "        print l    \n",
    "draw_staircase()"
   ]
  },
  {
   "cell_type": "code",
   "execution_count": 2,
   "metadata": {
    "collapsed": false
   },
   "outputs": [
    {
     "name": "stdout",
     "output_type": "stream",
     "text": [
      "1:15:23PM\n",
      "13:15:23\n"
     ]
    }
   ],
   "source": [
    "#time conversion from AM/PM to 24hr\n",
    "inp = list(map(str, raw_input().split(\":\"))); #print inp #check\n",
    "AMPM = inp[2][2:4]; #print AMPM\n",
    "if inp[0] == '12':\n",
    "    if AMPM == 'AM': inp[0] = '00' #Special case (12am=>00, 12pm doesnt add 12)\n",
    "elif AMPM == 'PM': inp[0] = str(int(inp[0]) + 12) #Adds 12 hrs if PM\n",
    "inp[2] = inp[2][0:2] #Removes AM or PM\n",
    "final = \":\".join(inp)\n",
    "print final"
   ]
  },
  {
   "cell_type": "code",
   "execution_count": null,
   "metadata": {
    "collapsed": false
   },
   "outputs": [
    {
     "name": "stdout",
     "output_type": "stream",
     "text": [
      "2\n",
      "4 3\n",
      "-1 -3 4 2\n",
      "ontime :  2  late :  2  k :  3\n",
      "YES\n"
     ]
    }
   ],
   "source": [
    "#Angry Professor\n",
    "T = int(raw_input())\n",
    "for i in range(T):\n",
    "    NK = list(map(int, raw_input().split(\" \")))\n",
    "    var = list(map(int, raw_input().split(\" \")))\n",
    "    ontime, late = 0, 0\n",
    "    for i in var: \n",
    "        if i <= 0: ontime = ontime + 1 \n",
    "        elif i > 0: late = late + 1\n",
    "    #print \"ontime : \", ontime, \" late : \", late, \" k : \", NK[1]\n",
    "    if NK[1] <= ontime: print \"NO\" \n",
    "    else: print \"YES\""
   ]
  },
  {
   "cell_type": "code",
   "execution_count": null,
   "metadata": {
    "collapsed": false
   },
   "outputs": [],
   "source": [
    "#Sherlock and the Beast\n",
    "T = int(raw_input())\n",
    "allperm = []\n",
    "def perms()    "
   ]
  },
  {
   "cell_type": "code",
   "execution_count": null,
   "metadata": {
    "collapsed": true
   },
   "outputs": [],
   "source": []
  },
  {
   "cell_type": "code",
   "execution_count": null,
   "metadata": {
    "collapsed": false
   },
   "outputs": [],
   "source": []
  },
  {
   "cell_type": "code",
   "execution_count": null,
   "metadata": {
    "collapsed": false
   },
   "outputs": [],
   "source": []
  },
  {
   "cell_type": "code",
   "execution_count": 2,
   "metadata": {
    "collapsed": false
   },
   "outputs": [
    {
     "name": "stdout",
     "output_type": "stream",
     "text": [
      "3\n",
      "0\n",
      "1\n",
      "1\n",
      "2\n",
      "4\n",
      "7\n"
     ]
    }
   ],
   "source": [
    "#Utopian Tree\n",
    "T = int(raw_input())\n",
    "for i in range(T):\n",
    "    height = 1; N = int(raw_input())\n",
    "    for j in range(N):\n",
    "        if j%2 == 0: height = height * 2 \n",
    "        else:        height = height + 1\n",
    "    print height"
   ]
  },
  {
   "cell_type": "code",
   "execution_count": null,
   "metadata": {
    "collapsed": false
   },
   "outputs": [],
   "source": []
  },
  {
   "cell_type": "code",
   "execution_count": 12,
   "metadata": {
    "collapsed": false
   },
   "outputs": [
    {
     "name": "stdout",
     "output_type": "stream",
     "text": [
      "1\n",
      "1012\n",
      "3\n"
     ]
    }
   ],
   "source": [
    "#Find Digits\n",
    "T = int(raw_input())\n",
    "for i in range(T):\n",
    "    N, sep, counter = str(raw_input()), [], 0\n",
    "    for j in range(len(N)):\n",
    "        if int(N[j]) != 0:\n",
    "            if int(N) % (int(N[j])) == 0: \n",
    "                counter = counter + 1\n",
    "    print counter"
   ]
  },
  {
   "cell_type": "code",
   "execution_count": null,
   "metadata": {
    "collapsed": true
   },
   "outputs": [],
   "source": []
  },
  {
   "cell_type": "code",
   "execution_count": null,
   "metadata": {
    "collapsed": true
   },
   "outputs": [],
   "source": []
  },
  {
   "cell_type": "code",
   "execution_count": null,
   "metadata": {
    "collapsed": true
   },
   "outputs": [],
   "source": []
  },
  {
   "cell_type": "code",
   "execution_count": null,
   "metadata": {
    "collapsed": true
   },
   "outputs": [],
   "source": []
  }
 ],
 "metadata": {
  "kernelspec": {
   "display_name": "Python 2",
   "language": "python",
   "name": "python2"
  },
  "language_info": {
   "codemirror_mode": {
    "name": "ipython",
    "version": 2
   },
   "file_extension": ".py",
   "mimetype": "text/x-python",
   "name": "python",
   "nbconvert_exporter": "python",
   "pygments_lexer": "ipython2",
   "version": "2.7.11"
  }
 },
 "nbformat": 4,
 "nbformat_minor": 0
}
