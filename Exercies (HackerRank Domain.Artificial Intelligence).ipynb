{
 "cells": [
  {
   "cell_type": "code",
   "execution_count": 10,
   "metadata": {
    "collapsed": false
   },
   "outputs": [
    {
     "name": "stdout",
     "output_type": "stream",
     "text": [
      "4\n",
      "----\n",
      "--m-\n",
      "----\n",
      "p---\n",
      "DOWN\n",
      "LEFT\n",
      "DOWN\n",
      "LEFT\n"
     ]
    }
   ],
   "source": [
    "#BOT SAVES PRINCESS\n",
    "\n",
    "\n",
    "#!/bin/python\n",
    "#def displayPathtoPrincess(n,grid):\n",
    "#print all the moves here\n",
    "m = input()\n",
    "\n",
    "grid = []\n",
    "bp = [] #bot position\n",
    "pp = [] #princess position\n",
    "\n",
    "#Grid inpt\n",
    "for i in xrange(0, m):\n",
    "    grid.append(raw_input().strip())\n",
    "\n",
    "\n",
    "#Determining the position of the bot and princess\n",
    "for i in range(m): \n",
    "    for j in range(m):\n",
    "        if grid[i][j] == 'm':\n",
    "            bp.append(j)\n",
    "            bp.append(i)\n",
    "        elif grid[i][j] == 'p':\n",
    "            pp.append(j)\n",
    "            pp.append(i)\n",
    "            \n",
    "#Check position \n",
    "#print 'Bot position: \\t', bp, '\\tPrincess Position: \\t', pp\n",
    "\n",
    "\n",
    "n = 0  #move counter\n",
    "prev_move = 'NONE' # optimizes to take diagonal path\n",
    "\n",
    "#Check position of bot vs position of princess and adjust properly\n",
    "while (bp!=pp):\n",
    "    if pp[1] > bp[1] and prev_move != 'DOWN':\n",
    "        print 'DOWN'\n",
    "        bp[1] = bp[1] + 1\n",
    "        n = n + 1\n",
    "        prev_move = 'DOWN'\n",
    "        #print 'Bot position: \\t', bp, '\\tPrincess Position: \\t', pp\n",
    "    elif pp[1] < bp[1] and prev_move != 'UP':\n",
    "        print 'UP'\n",
    "        bp[1] = bp[1] - 1\n",
    "        n = n + 1\n",
    "        prev_move = 'UP'\n",
    "        #print 'Bot position: \\t', bp, '\\tPrincess Position: \\t', pp\n",
    "    elif pp[0] > bp[0] and prev_move != 'RIGHT':\n",
    "        print 'RIGHT'\n",
    "        bp[0] = bp[0] + 1\n",
    "        n = n + 1\n",
    "        prev_move = 'RIGHT'\n",
    "        #print 'Bot position: \\t', bp, '\\tPrincess Position: \\t', pp\n",
    "    elif pp[0] < bp[0] and prev_move != 'LEFT':\n",
    "        print 'LEFT'\n",
    "        bp[0] = bp[0] - 1\n",
    "        n = n + 1\n",
    "        prev_move = 'LEFT'\n",
    "        #print 'Bot position: \\t', bp, '\\tPrincess Position: \\t', pp\n",
    "print n\n",
    "#displayPathtoPrincess(m,grid)\n"
   ]
  },
  {
   "cell_type": "code",
   "execution_count": null,
   "metadata": {
    "collapsed": true
   },
   "outputs": [],
   "source": []
  }
 ],
 "metadata": {
  "kernelspec": {
   "display_name": "Python 2",
   "language": "python",
   "name": "python2"
  },
  "language_info": {
   "codemirror_mode": {
    "name": "ipython",
    "version": 2
   },
   "file_extension": ".py",
   "mimetype": "text/x-python",
   "name": "python",
   "nbconvert_exporter": "python",
   "pygments_lexer": "ipython2",
   "version": "2.7.10"
  }
 },
 "nbformat": 4,
 "nbformat_minor": 0
}
