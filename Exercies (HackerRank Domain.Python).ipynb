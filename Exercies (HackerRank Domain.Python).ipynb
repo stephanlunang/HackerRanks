{
 "cells": [
  {
   "cell_type": "code",
   "execution_count": 1,
   "metadata": {
    "collapsed": true
   },
   "outputs": [],
   "source": [
    "#Libraries"
   ]
  },
  {
   "cell_type": "code",
   "execution_count": 5,
   "metadata": {
    "collapsed": false
   },
   "outputs": [
    {
     "name": "stdout",
     "output_type": "stream",
     "text": [
      "11\n",
      "3\n",
      "3\n",
      "3.66666666667\n",
      "2\n",
      "(3, 2)\n"
     ]
    }
   ],
   "source": [
    "from __future__ import division\n",
    "\n",
    "a = int(raw_input())\n",
    "b = int(raw_input())\n",
    "\n",
    "print a//b\n",
    "print a/b\n",
    "print a%b                  #remainder\n",
    "print divmod(a,b)          #__future__ => div, remainder"
   ]
  },
  {
   "cell_type": "code",
   "execution_count": null,
   "metadata": {
    "collapsed": false
   },
   "outputs": [],
   "source": [
    "# Dictionary Example\n",
    "d = {}                              #dictionary init.\n",
    "n = int(raw_input())                #enter number of entires\n",
    "\n",
    "for i in range(0,n):\n",
    "    strg = raw_input()\n",
    "    #print b \n",
    "    c = strg.split()                #Splits the string\n",
    "    #print c\n",
    "    summ = float(c[1]) + float(c[2]) + float(c[3])\n",
    "    print summ\n",
    "    average = float(summ/3)  #To search\n",
    "    d[c[0]] = average\n",
    "    \n",
    "ext = raw_input()\n",
    "if ext in d:\n",
    "    print  '%.2f' % d[ext]\n",
    "else:\n",
    "    print \"Not there.\""
   ]
  },
  {
   "cell_type": "code",
   "execution_count": 2,
   "metadata": {
    "collapsed": false
   },
   "outputs": [
    {
     "name": "stdout",
     "output_type": "stream",
     "text": [
      "['1', '2', '3', '4', '5', '6', '7']\n"
     ]
    }
   ],
   "source": [
    "foo = \"1 2 3 4 5 6 7\"\n",
    "b = foo.split()\n",
    "print b"
   ]
  },
  {
   "cell_type": "code",
   "execution_count": 22,
   "metadata": {
    "collapsed": false
   },
   "outputs": [
    {
     "name": "stdout",
     "output_type": "stream",
     "text": [
      "a s da sd\n",
      "['a', 's', 'da', 'sd']\n"
     ]
    }
   ],
   "source": [
    "x = raw_input()\n",
    "h = x.split()\n",
    "print h"
   ]
  },
  {
   "cell_type": "code",
   "execution_count": 6,
   "metadata": {
    "collapsed": false
   },
   "outputs": [
    {
     "name": "stdout",
     "output_type": "stream",
     "text": [
      "0\n"
     ]
    }
   ],
   "source": [
    "a = [1,2,3,4,5,2,1]\n",
    "temp = a.index(1)\n",
    "print temp"
   ]
  },
  {
   "cell_type": "code",
   "execution_count": 21,
   "metadata": {
    "collapsed": false
   },
   "outputs": [
    {
     "name": "stdout",
     "output_type": "stream",
     "text": [
      "1\n",
      "print\n",
      "[]\n"
     ]
    }
   ],
   "source": [
    "#Lists Commands\n",
    "\n",
    "#a = []\n",
    "#b = []\n",
    "#a.append()    #adds element to end\n",
    "#a.extend(b)   #tacks on list to end\n",
    "#a.insert(i,x) #inserts x into at position i (does not delete but pushes)\n",
    "#a.remove(x)   #Removes element with value x\n",
    "#a.pop()       #removes the last element of list.  If = variable, the item = variable also\n",
    "#a.index(x)    #Returns index of x if found. Error if not. Only first position.\n",
    "#a.count(x)    #Counts occurences of x\n",
    "#a.sort()      #Sorts list\n",
    "#a.reverse()   #reverses list\n",
    "\n",
    "#List manipulation\n",
    "L = []\n",
    "N = int(raw_input())\n",
    "for i in range(0,N):\n",
    "    foo = raw_input()\n",
    "    b = foo.split()\n",
    "    #print b\n",
    "    if (b[0] == 'insert'):    #1\n",
    "        L.insert(int(b[1]), int(b[2]))\n",
    "    elif (b[0] == 'print'):   #2\n",
    "        print L\n",
    "    elif (b[0] == 'remove'):  #3\n",
    "        L.remove(int(b[1]))\n",
    "    elif (b[0] == 'append'):  #4\n",
    "        L.append(int(b[1]))  \n",
    "    elif (b[0] == 'sort'):    #5\n",
    "        L.sort()\n",
    "    elif (b[0] == 'pop'):     #6\n",
    "        L.pop()\n",
    "    elif (b[0] == 'reverse'): #7\n",
    "        L.reverse()\n",
    "    elif (b[0] == 'count'):   #8\n",
    "        L.count(int(b[1]))\n",
    "    else:\n",
    "        print \"Not a command\""
   ]
  },
  {
   "cell_type": "code",
   "execution_count": 23,
   "metadata": {
    "collapsed": false
   },
   "outputs": [
    {
     "name": "stdout",
     "output_type": "stream",
     "text": [
      "2\n",
      "12\n",
      "-1664481961\n"
     ]
    }
   ],
   "source": [
    "print raw_input() == 0 or hash(tuple(map(int, raw_input().split(' '))))"
   ]
  },
  {
   "cell_type": "code",
   "execution_count": 25,
   "metadata": {
    "collapsed": false
   },
   "outputs": [
    {
     "name": "stdout",
     "output_type": "stream",
     "text": [
      "2 4 5 9\n",
      "2 4 11 12\n",
      "[9, 11, 12, 5]\n",
      "[5, 9, 11, 12]\n",
      "5\n",
      "9\n",
      "11\n",
      "12\n"
     ]
    }
   ],
   "source": [
    "#a = int(raw_input())\n",
    "b = raw_input()\n",
    "#m = int(raw_input())\n",
    "n = raw_input()\n",
    "\n",
    "\n",
    "#Sets are useful because do not allow for entry of the same object twice\n",
    "\n",
    "lis = b.split()\n",
    "newlis = list(map(int,lis))\n",
    "set1 = set(newlis)\n",
    "\n",
    "lis2 = n.split()\n",
    "newlis2 = list(map(int,lis2))\n",
    "set2 = set(newlis2)\n",
    "\n",
    "combset = set()\n",
    "\n",
    "#print 'differences'\n",
    "combset.update(set1.difference(set2))\n",
    "combset.update(set2.difference(set1))\n",
    "\n",
    "\n",
    "x = list(combset)\n",
    "print x\n",
    "x.sort()\n",
    "print x\n",
    "for i in range(len(x)):\n",
    "    print x[i]"
   ]
  },
  {
   "cell_type": "code",
   "execution_count": 35,
   "metadata": {
    "collapsed": false
   },
   "outputs": [
    {
     "name": "stdout",
     "output_type": "stream",
     "text": [
      "1\n",
      "1\n",
      "1\n",
      "2\n",
      "[[0, 0, 0], [0, 0, 1], [0, 1, 0], [1, 0, 0], [1, 1, 1]]\n"
     ]
    }
   ],
   "source": [
    "# Enter your code here. Read input from STDIN. Print output to STDOUT\n",
    "a = int(raw_input())\n",
    "b = int(raw_input())\n",
    "c = int(raw_input())\n",
    "n = int(raw_input())\n",
    "\n",
    "comb = []\n",
    "\n",
    "for i in range(0,a+1):\n",
    "#    print i\n",
    "    for j in range(0,b+1):\n",
    "#        print j\n",
    "        for k in range(0,c+1):\n",
    "#            print k\n",
    "#            comb.append([i,j,k])\n",
    "            if (i + j + k != n):\n",
    "                comb.append([i,j,k])\n",
    "#                print 'match!'\n",
    "                \n",
    "print comb"
   ]
  },
  {
   "cell_type": "code",
   "execution_count": 17,
   "metadata": {
    "collapsed": false
   },
   "outputs": [
    {
     "name": "stdout",
     "output_type": "stream",
     "text": [
      "1 3 5 67 2 1 3\n",
      "[1, 2, 3, 5, 67]\n",
      "5\n"
     ]
    }
   ],
   "source": [
    "# Enter your code here. Read input from STDIN. Print output to STDOUT\n",
    "#a = int(raw_input())\n",
    "b = raw_input()\n",
    "\n",
    "lis = b.split()\n",
    "w = list(map(int, lis))\n",
    "s1 = set(w)\n",
    "l1 = list(s1)\n",
    "l1.sort()\n",
    "\n",
    "print l1\n",
    "print l1[-2]"
   ]
  },
  {
   "cell_type": "code",
   "execution_count": 60,
   "metadata": {
    "collapsed": false
   },
   "outputs": [
    {
     "name": "stdout",
     "output_type": "stream",
     "text": [
      "3\n",
      "t1\n",
      "52\n",
      "t2\n",
      "53\n",
      "t3\n",
      "53\n",
      "set([52.0, 53.0])\n",
      "[52.0, 53.0]\n",
      "t2\n",
      "t3\n"
     ]
    }
   ],
   "source": [
    "# Enter your code here. Read input from STDIN. Print output to STDOUT\n",
    "n = int(raw_input())\n",
    "lis = []\n",
    "\n",
    "for i in range(0,n):\n",
    "    a = raw_input()\n",
    "    b = float(raw_input())\n",
    "    lis.append([a,b])\n",
    "    \n",
    "kl = sorted(h[1] for h in lis)\n",
    "ll = set(kl)\n",
    "print ll\n",
    "scores = list(ll)\n",
    "scores.sort()\n",
    "print scores\n",
    "#print lis[][1]\n",
    "\n",
    "new = []\n",
    "#counter = 0\n",
    "for i in range(0,n):\n",
    "    if scores[1] == lis[i][1]:\n",
    "        new.append(lis[i][0])#, counter                \n",
    "\n",
    "new.sort()\n",
    "for x in range(len(new)):\n",
    "    print new[x]\n"
   ]
  },
  {
   "cell_type": "code",
   "execution_count": 33,
   "metadata": {
    "collapsed": false
   },
   "outputs": [
    {
     "name": "stdout",
     "output_type": "stream",
     "text": [
      "2\n",
      "san\n"
     ]
    },
    {
     "ename": "NameError",
     "evalue": "name 'san' is not defined",
     "output_type": "error",
     "traceback": [
      "\u001b[1;31m---------------------------------------------------------------------------\u001b[0m",
      "\u001b[1;31mNameError\u001b[0m                                 Traceback (most recent call last)",
      "\u001b[1;32m<ipython-input-33-07411f1f7508>\u001b[0m in \u001b[0;36m<module>\u001b[1;34m()\u001b[0m\n\u001b[0;32m      1\u001b[0m \u001b[0mn\u001b[0m \u001b[1;33m=\u001b[0m \u001b[0mint\u001b[0m\u001b[1;33m(\u001b[0m\u001b[0mraw_input\u001b[0m\u001b[1;33m(\u001b[0m\u001b[1;33m)\u001b[0m\u001b[1;33m)\u001b[0m\u001b[1;33m\u001b[0m\u001b[0m\n\u001b[1;32m----> 2\u001b[1;33m \u001b[0mmarksheet\u001b[0m \u001b[1;33m=\u001b[0m \u001b[1;33m[\u001b[0m\u001b[1;33m[\u001b[0m\u001b[0minput\u001b[0m\u001b[1;33m(\u001b[0m\u001b[1;33m)\u001b[0m\u001b[1;33m,\u001b[0m \u001b[0mfloat\u001b[0m\u001b[1;33m(\u001b[0m\u001b[0minput\u001b[0m\u001b[1;33m(\u001b[0m\u001b[1;33m)\u001b[0m\u001b[1;33m)\u001b[0m\u001b[1;33m]\u001b[0m \u001b[1;32mfor\u001b[0m \u001b[0m_\u001b[0m \u001b[1;32min\u001b[0m \u001b[0mrange\u001b[0m\u001b[1;33m(\u001b[0m\u001b[0mn\u001b[0m\u001b[1;33m)\u001b[0m\u001b[1;33m]\u001b[0m\u001b[1;33m\u001b[0m\u001b[0m\n\u001b[0m",
      "\u001b[1;32mC:\\Users\\Stephan\\Anaconda\\lib\\site-packages\\ipykernel\\ipkernel.pyc\u001b[0m in \u001b[0;36m<lambda>\u001b[1;34m(prompt)\u001b[0m\n\u001b[0;32m    139\u001b[0m             \u001b[0mself\u001b[0m\u001b[1;33m.\u001b[0m\u001b[0m_sys_eval_input\u001b[0m \u001b[1;33m=\u001b[0m \u001b[0mbuiltin_mod\u001b[0m\u001b[1;33m.\u001b[0m\u001b[0minput\u001b[0m\u001b[1;33m\u001b[0m\u001b[0m\n\u001b[0;32m    140\u001b[0m             \u001b[0mbuiltin_mod\u001b[0m\u001b[1;33m.\u001b[0m\u001b[0mraw_input\u001b[0m \u001b[1;33m=\u001b[0m \u001b[0mself\u001b[0m\u001b[1;33m.\u001b[0m\u001b[0mraw_input\u001b[0m\u001b[1;33m\u001b[0m\u001b[0m\n\u001b[1;32m--> 141\u001b[1;33m             \u001b[0mbuiltin_mod\u001b[0m\u001b[1;33m.\u001b[0m\u001b[0minput\u001b[0m \u001b[1;33m=\u001b[0m \u001b[1;32mlambda\u001b[0m \u001b[0mprompt\u001b[0m\u001b[1;33m=\u001b[0m\u001b[1;34m''\u001b[0m\u001b[1;33m:\u001b[0m \u001b[0meval\u001b[0m\u001b[1;33m(\u001b[0m\u001b[0mself\u001b[0m\u001b[1;33m.\u001b[0m\u001b[0mraw_input\u001b[0m\u001b[1;33m(\u001b[0m\u001b[0mprompt\u001b[0m\u001b[1;33m)\u001b[0m\u001b[1;33m)\u001b[0m\u001b[1;33m\u001b[0m\u001b[0m\n\u001b[0m\u001b[0;32m    142\u001b[0m         \u001b[0mself\u001b[0m\u001b[1;33m.\u001b[0m\u001b[0m_save_getpass\u001b[0m \u001b[1;33m=\u001b[0m \u001b[0mgetpass\u001b[0m\u001b[1;33m.\u001b[0m\u001b[0mgetpass\u001b[0m\u001b[1;33m\u001b[0m\u001b[0m\n\u001b[0;32m    143\u001b[0m         \u001b[0mgetpass\u001b[0m\u001b[1;33m.\u001b[0m\u001b[0mgetpass\u001b[0m \u001b[1;33m=\u001b[0m \u001b[0mself\u001b[0m\u001b[1;33m.\u001b[0m\u001b[0mgetpass\u001b[0m\u001b[1;33m\u001b[0m\u001b[0m\n",
      "\u001b[1;32mC:\\Users\\Stephan\\Anaconda\\lib\\site-packages\\ipykernel\\ipkernel.pyc\u001b[0m in \u001b[0;36m<module>\u001b[1;34m()\u001b[0m\n",
      "\u001b[1;31mNameError\u001b[0m: name 'san' is not defined"
     ]
    }
   ],
   "source": [
    "n = int(raw_input())\n",
    "marksheet = [[input(), float(input())] for _ in range(n)]"
   ]
  },
  {
   "cell_type": "code",
   "execution_count": 71,
   "metadata": {
    "collapsed": false
   },
   "outputs": [
    {
     "name": "stdout",
     "output_type": "stream",
     "text": [
      "Hello\n",
      "hELLO\n"
     ]
    }
   ],
   "source": [
    "inp = raw_input()\n",
    "out = []\n",
    "for i in inp:\n",
    "    if i.isupper(): out.append(i.lower())\n",
    "    else:           out.append(i.upper())\n",
    "print ''.join(out)"
   ]
  },
  {
   "cell_type": "code",
   "execution_count": 72,
   "metadata": {
    "collapsed": false
   },
   "outputs": [
    {
     "name": "stdout",
     "output_type": "stream",
     "text": [
      "Hello old friend\n",
      "Hello-old-friend\n"
     ]
    }
   ],
   "source": [
    "inp = raw_input()\n",
    "str = inp.split(\" \")\n",
    "print \"-\".join(str)"
   ]
  },
  {
   "cell_type": "code",
   "execution_count": 79,
   "metadata": {
    "collapsed": false
   },
   "outputs": [
    {
     "name": "stdout",
     "output_type": "stream",
     "text": [
      "askdjklsa\n",
      "1 d\n",
      "adkdjklsa\n"
     ]
    }
   ],
   "source": [
    "#Replacing letter at position given\n",
    "inp = list(raw_input())\n",
    "raw_par = raw_input()\n",
    "par = raw_par.split(\" \")\n",
    "inp[int(par[0])] = par[1]\n",
    "string = ''.join(inp)\n",
    "print string"
   ]
  },
  {
   "cell_type": "code",
   "execution_count": null,
   "metadata": {
    "collapsed": true
   },
   "outputs": [],
   "source": []
  },
  {
   "cell_type": "code",
   "execution_count": null,
   "metadata": {
    "collapsed": true
   },
   "outputs": [],
   "source": []
  },
  {
   "cell_type": "code",
   "execution_count": 88,
   "metadata": {
    "collapsed": false
   },
   "outputs": [
    {
     "name": "stdout",
     "output_type": "stream",
     "text": [
      "abdsad\n",
      "ad\n",
      "1\n"
     ]
    }
   ],
   "source": [
    "inp = list(raw_input())\n",
    "inp2 = list(raw_input())\n",
    "l1 = len(inp)\n",
    "l2 = len(inp2)\n",
    "dif = l1 - l2\n",
    "#comb = []\n",
    "counter = 0\n",
    "#inp[0:l2]\n",
    "for i in range(dif + 1):\n",
    "    if inp[0+i:l2+i] == inp2:\n",
    "        counter = counter + 1\n",
    "print counter\n",
    "#print l1, '\\t', l2"
   ]
  },
  {
   "cell_type": "code",
   "execution_count": 90,
   "metadata": {
    "collapsed": false
   },
   "outputs": [
    {
     "ename": "NameError",
     "evalue": "name 'true' is not defined",
     "output_type": "error",
     "traceback": [
      "\u001b[1;31m---------------------------------------------------------------------------\u001b[0m",
      "\u001b[1;31mNameError\u001b[0m                                 Traceback (most recent call last)",
      "\u001b[1;32m<ipython-input-90-9ae9a667327e>\u001b[0m in \u001b[0;36m<module>\u001b[1;34m()\u001b[0m\n\u001b[1;32m----> 1\u001b[1;33m \u001b[0mhello\u001b[0m \u001b[1;33m=\u001b[0m \u001b[0mtrue\u001b[0m \u001b[1;33m+\u001b[0m \u001b[0mtrue\u001b[0m\u001b[1;33m\u001b[0m\u001b[0m\n\u001b[0m\u001b[0;32m      2\u001b[0m \u001b[1;32mprint\u001b[0m \u001b[0mhello\u001b[0m\u001b[1;33m\u001b[0m\u001b[0m\n",
      "\u001b[1;31mNameError\u001b[0m: name 'true' is not defined"
     ]
    }
   ],
   "source": [
    "hello = true + true \n",
    "print hello"
   ]
  },
  {
   "cell_type": "code",
   "execution_count": 89,
   "metadata": {
    "collapsed": false
   },
   "outputs": [
    {
     "name": "stdout",
     "output_type": "stream",
     "text": [
      "abcsd123\n",
      "True\n",
      "False\n",
      "False\n",
      "True\n",
      "False\n"
     ]
    }
   ],
   "source": [
    "inp = raw_input()\n",
    "print inp.isalnum()\n",
    "print inp.isalpha()\n",
    "print inp.isdigit()\n",
    "print inp.islower()\n",
    "print inp.isupper()"
   ]
  },
  {
   "cell_type": "code",
   "execution_count": null,
   "metadata": {
    "collapsed": true
   },
   "outputs": [],
   "source": [
    "inp = raw_input()\n",
    "for i in inp:\n",
    "    if i.isalnum() == false:\n",
    "        print 'False'\n",
    "        break\n",
    "    else:\n",
    "        print 'True'\n",
    "for i in inp:\n",
    "    if i.isalpha() == false:\n",
    "        print 'False'\n",
    "        break\n",
    "    else:\n",
    "        print 'True'\n",
    "#inp.isalpha()\n",
    "for i in inp:\n",
    "    if i.isdigit() == false:\n",
    "        print 'False'\n",
    "        break\n",
    "    else:\n",
    "        print 'True'\n",
    "#print inp.isdigit()\n",
    "for i in inp:\n",
    "    if i.islower() == false:\n",
    "        print 'False'\n",
    "        break\n",
    "    else:\n",
    "        print 'True'\n",
    "#print inp.islower()\n",
    "for i in inp:\n",
    "    if i.isupper() == false:\n",
    "        print 'False'\n",
    "        break\n",
    "    else:\n",
    "        print 'True'\n",
    "#print inp.isupper()"
   ]
  },
  {
   "cell_type": "code",
   "execution_count": null,
   "metadata": {
    "collapsed": true
   },
   "outputs": [],
   "source": []
  },
  {
   "cell_type": "code",
   "execution_count": 9,
   "metadata": {
    "collapsed": false
   },
   "outputs": [
    {
     "name": "stdout",
     "output_type": "stream",
     "text": [
      "qA2\n",
      "3 [3, 2, 1, 1, 1]\n",
      "True\n",
      "True\n",
      "True\n",
      "True\n",
      "True\n"
     ]
    }
   ],
   "source": [
    "inp = raw_input()\n",
    "counter = [0,0,0,0,0]\n",
    "for i in inp:\n",
    "    if i.isalnum():\n",
    "        counter[0] = counter[0] + 1\n",
    "    if i.isalpha():\n",
    "        counter[1] = counter[1] + 1\n",
    "    if i.isdigit():\n",
    "        counter[2] = counter[2] + 1\n",
    "    if i.islower():\n",
    "        counter[3] = counter[3] + 1\n",
    "    if i.isupper():\n",
    "        counter[4] = counter[4] + 1\n",
    "\n",
    "        \n",
    "print len(inp), counter\n",
    "for i in range(len(counter)):\n",
    "    if counter[i] > 0:\n",
    "        print \"True\"\n",
    "    else:\n",
    "        print \"False\""
   ]
  },
  {
   "cell_type": "code",
   "execution_count": null,
   "metadata": {
    "collapsed": true
   },
   "outputs": [],
   "source": []
  },
  {
   "cell_type": "code",
   "execution_count": null,
   "metadata": {
    "collapsed": true
   },
   "outputs": [],
   "source": []
  },
  {
   "cell_type": "code",
   "execution_count": null,
   "metadata": {
    "collapsed": true
   },
   "outputs": [],
   "source": []
  },
  {
   "cell_type": "code",
   "execution_count": null,
   "metadata": {
    "collapsed": true
   },
   "outputs": [],
   "source": []
  },
  {
   "cell_type": "code",
   "execution_count": 1,
   "metadata": {
    "collapsed": true
   },
   "outputs": [],
   "source": [
    "import calendar"
   ]
  },
  {
   "cell_type": "code",
   "execution_count": 8,
   "metadata": {
    "collapsed": false
   },
   "outputs": [
    {
     "name": "stdout",
     "output_type": "stream",
     "text": [
      "08 05 2015\n",
      "Wednesday\n"
     ]
    }
   ],
   "source": [
    "inp = raw_input().split(\" \")\n",
    "wd = calendar.weekday(int(inp[2]), int(inp[0]), int(inp[1]))\n",
    "#print wd\n",
    "def which_day(n):\n",
    "    if n == 0:\n",
    "        print \"Monday\"\n",
    "    elif n == 1:\n",
    "        print \"Tuesday\"\n",
    "    elif n == 2:\n",
    "        print \"Wednesday\"\n",
    "    elif n == 3:\n",
    "        print \"Thursday\" \n",
    "    elif n == 4:\n",
    "        print \"Friday\"        \n",
    "    elif n == 5:\n",
    "        print \"Saturday\"\n",
    "    elif n == 6:\n",
    "        print \"Sunday\"\n",
    "which_day(wd)"
   ]
  },
  {
   "cell_type": "code",
   "execution_count": 11,
   "metadata": {
    "collapsed": true
   },
   "outputs": [],
   "source": [
    "from datetime import date\n",
    "\n",
    "def month_number(x):\n",
    "    if x == 'January':\n",
    "        return 0\n",
    "    elif x == 'February':\n",
    "        return 1\n",
    "    elif x == 'March':\n",
    "        return 2\n",
    "    elif x == 'April':\n",
    "        return 3\n",
    "    elif x == 'May':\n",
    "        return 4\n",
    "    elif x == 'June':\n",
    "        return 5\n",
    "    elif x == 'July':\n",
    "        return 6\n",
    "    elif x == 'August':\n",
    "        return 7\n",
    "    elif x == 'September':\n",
    "        return 8\n",
    "    elif x == 'October':\n",
    "        return 9\n",
    "    elif x == 'November':\n",
    "        return 10\n",
    "    elif x == 'December':\n",
    "        return 11"
   ]
  },
  {
   "cell_type": "code",
   "execution_count": 38,
   "metadata": {
    "collapsed": false
   },
   "outputs": [
    {
     "name": "stdout",
     "output_type": "stream",
     "text": [
      "1\n",
      "Sun 10 May 2015 13:54:36 -0700\n",
      "Sun 10 May 2015 13:54:36 +0000\n",
      "['Sun', '10', 'May', '2015', '13:54:36', '-0700'] \t['Sun', '10', 'May', '2015', '13:54:36', '+0000']\n",
      "Difference in days:  0\n",
      "['13', '54', '36'] \t['13', '54', '36']\n",
      "0\n",
      "Hrs and Min: \t13 \t13 \t54 \t54\n",
      "-0700 \t+0000\n",
      "ModNums: \t7 \t0 \t0 \t0\n",
      "-\n",
      "+\n",
      "Modded hrs and min: \t6 \t13 \t54 \t54\n",
      "0\n",
      "25200\n"
     ]
    }
   ],
   "source": [
    "n = int(raw_input())\n",
    "for i in range(n):\n",
    "    timer = 0\n",
    "    inp = raw_input().split(\" \")\n",
    "    inp2 = raw_input().split(\" \")\n",
    "    print inp, '\\t', inp2\n",
    "    mon = month_number(inp[2])\n",
    "    mon2 = month_number(inp2[2])\n",
    "    d1 = date(int(inp[3]), mon, int(inp[1]))\n",
    "    d2 = date(int(inp2[3]), mon, int(inp2[1]))\n",
    "    difday = (d1-d2).days\n",
    "    print \"Difference in days: \", difday\n",
    "    t1 = inp[4].split(\":\")\n",
    "    t2 = inp2[4].split(\":\")\n",
    "    print t1, '\\t', t2\n",
    "    timer = timer + (int(t1[2]) - int(t2[2]))\n",
    "    print timer\n",
    "    hr1 = int(t1[0])\n",
    "    hr2 = int(t2[0])\n",
    "    min1 = int(t1[1])\n",
    "    min2 = int(t2[1])\n",
    "    print 'Hrs and Min: \\t',hr1, '\\t', hr2, '\\t', min1, '\\t', min2\n",
    "    mod1 = inp[5]\n",
    "    mod2 = inp2[5]\n",
    "    print mod1,'\\t', mod2\n",
    "    modnum1 = int(\"\".join(mod1[1:3]))\n",
    "    modnum2 = int(\"\".join(mod2[1:3]))\n",
    "    modmin1 = int(\"\".join(mod1[3:5]))\n",
    "    modmin2 = int(\"\".join(mod2[3:5]))\n",
    "    print 'ModNums: \\t',modnum1, '\\t', modnum2, '\\t', modmin1, '\\t', modmin2\n",
    "    if mod1[0] == '-':   \n",
    "        hr1 = hr1 - modnum1\n",
    "        min1 = min1 - modmin1\n",
    "        print '-'\n",
    "    elif mod1[0] == '+': \n",
    "        hr1 = hr1 + modnum1\n",
    "        min1 = min1 + modmin1\n",
    "        print '+'\n",
    "    if mod2[0] == '-':   \n",
    "        hr2 = hr2 - modnum2\n",
    "        min2 = min2 - modmin2\n",
    "        print '- loop 2'\n",
    "    elif mod2[0] == '+': \n",
    "        hr2 = hr2 + modnum2\n",
    "        min2 = min2 + modmin2\n",
    "        print '+'\n",
    "    print 'Modded hrs and min: \\t',hr1, '\\t', hr2, '\\t', min1, '\\t', min2\n",
    "    print timer\n",
    "    timer = timer + (hr1 - hr2)*3600 + (min1-min2)*60\n",
    "    #if hr1 >= 24:\n",
    "    #    dsfd = (difday-1) * 86400\n",
    "    #    timer = timer + dsfd\n",
    "    #else:\n",
    "    #    dsfd = difday * 86400\n",
    "    #    timer = timer + dsfd\n",
    "    print abs(timer)"
   ]
  },
  {
   "cell_type": "code",
   "execution_count": 17,
   "metadata": {
    "collapsed": false
   },
   "outputs": [
    {
     "name": "stdout",
     "output_type": "stream",
     "text": [
      "[2, 3, 4]\n"
     ]
    }
   ],
   "source": [
    "a = [1,2,3,4,5]\n",
    "print a[1:4]"
   ]
  },
  {
   "cell_type": "code",
   "execution_count": null,
   "metadata": {
    "collapsed": true
   },
   "outputs": [],
   "source": [
    "2\n",
    "Sun 10 May 2015 13:54:36 -0700\n",
    "Sun 10 May 2015 13:54:36 +0000\n",
    "Sat 02 May 2015 19:54:36 +0530\n",
    "Fri 01 May 2015 13:54:36 +0000\n",
    "        \n",
    "        "
   ]
  },
  {
   "cell_type": "code",
   "execution_count": 39,
   "metadata": {
    "collapsed": false
   },
   "outputs": [
    {
     "data": {
      "text/plain": [
       "88200"
      ]
     },
     "execution_count": 39,
     "metadata": {},
     "output_type": "execute_result"
    }
   ],
   "source": [
    "25200\n",
    "88200\n"
   ]
  },
  {
   "cell_type": "code",
   "execution_count": null,
   "metadata": {
    "collapsed": true
   },
   "outputs": [],
   "source": []
  },
  {
   "cell_type": "code",
   "execution_count": null,
   "metadata": {
    "collapsed": true
   },
   "outputs": [],
   "source": []
  },
  {
   "cell_type": "code",
   "execution_count": null,
   "metadata": {
    "collapsed": true
   },
   "outputs": [],
   "source": []
  },
  {
   "cell_type": "code",
   "execution_count": null,
   "metadata": {
    "collapsed": true
   },
   "outputs": [],
   "source": []
  },
  {
   "cell_type": "code",
   "execution_count": null,
   "metadata": {
    "collapsed": true
   },
   "outputs": [],
   "source": []
  },
  {
   "cell_type": "code",
   "execution_count": 51,
   "metadata": {
    "collapsed": false
   },
   "outputs": [
    {
     "name": "stdout",
     "output_type": "stream",
     "text": [
      "10\n",
      "161 182 161 154 176 170 167 171 170 174\n",
      "169.375\n"
     ]
    }
   ],
   "source": [
    "n = int(raw_input())\n",
    "inp = list(set(raw_input().split(\" \")))\n",
    "suum = 0.\n",
    "for i in inp:\n",
    "    suum = suum + float(i)\n",
    "print suum/len(inp)"
   ]
  },
  {
   "cell_type": "code",
   "execution_count": null,
   "metadata": {
    "collapsed": true
   },
   "outputs": [],
   "source": []
  },
  {
   "cell_type": "code",
   "execution_count": null,
   "metadata": {
    "collapsed": true
   },
   "outputs": [],
   "source": []
  },
  {
   "cell_type": "code",
   "execution_count": null,
   "metadata": {
    "collapsed": true
   },
   "outputs": [],
   "source": []
  },
  {
   "cell_type": "code",
   "execution_count": null,
   "metadata": {
    "collapsed": true
   },
   "outputs": [],
   "source": []
  },
  {
   "cell_type": "code",
   "execution_count": null,
   "metadata": {
    "collapsed": true
   },
   "outputs": [],
   "source": []
  },
  {
   "cell_type": "code",
   "execution_count": null,
   "metadata": {
    "collapsed": true
   },
   "outputs": [],
   "source": []
  },
  {
   "cell_type": "code",
   "execution_count": 73,
   "metadata": {
    "collapsed": false
   },
   "outputs": [
    {
     "name": "stdout",
     "output_type": "stream",
     "text": [
      "10\n",
      "0 1 2 3 4 5 6 7 8 9\n",
      "19\n",
      "remove 1\n",
      "set([0, 2, 3, 4, 5, 6, 7, 8, 9])\n",
      "pop\n",
      "set([2, 3, 4, 5, 6, 7, 8, 9])\n",
      "pop\n",
      "set([3, 4, 5, 6, 7, 8, 9])\n",
      "discard 1\n",
      "set([3, 4, 5, 6, 7, 8, 9])\n",
      "discard 2\n",
      "set([3, 4, 5, 6, 7, 8, 9])\n",
      "discard 3\n",
      "set([4, 5, 6, 7, 8, 9])\n",
      "discard 2\n",
      "set([4, 5, 6, 7, 8, 9])\n",
      "remove 6\n",
      "set([4, 5, 7, 8, 9])\n",
      "pop\n",
      "set([5, 7, 8, 9])\n",
      "discard 6\n",
      "set([5, 7, 8, 9])\n",
      "discard 1\n",
      "set([5, 7, 8, 9])\n",
      "discard 8\n",
      "set([5, 7, 9])\n",
      "discard 2\n",
      "set([5, 7, 9])\n",
      "pop\n",
      "set([7, 9])\n",
      "discard 1\n",
      "set([7, 9])\n",
      "discard 8\n",
      "set([7, 9])\n",
      "discard 3\n",
      "set([7, 9])\n",
      "discard 1\n",
      "set([7, 9])\n",
      "discard 0\n",
      "set([7, 9])\n",
      "[7, 9]\n",
      "[7, 9]\n"
     ]
    }
   ],
   "source": [
    "n = int(raw_input())\n",
    "s = set(map(int, raw_input().split())) \n",
    "h = int(raw_input())\n",
    "for i in range(h):\n",
    "    com = list(raw_input().split(\" \"))\n",
    "    if com[0] == 'pop':\n",
    "        s.pop()\n",
    "        print s\n",
    "    elif com[0] == 'remove':\n",
    "        s.remove(int(com[1]))\n",
    "        print s\n",
    "    elif com[0] == 'discard':\n",
    "        s.discard(int(com[1]))\n",
    "        print s\n",
    "x = list(s)\n",
    "x.sort()\n",
    "print x\n",
    "if len(x) == 1:\n",
    "    print x[0]\n",
    "if len(x) > 1:\n",
    "    l = \"\".join(str(x))\n",
    "    print l\n",
    "if len(x) == 0:\n",
    "    print '0'"
   ]
  },
  {
   "cell_type": "code",
   "execution_count": 70,
   "metadata": {
    "collapsed": false
   },
   "outputs": [
    {
     "name": "stdout",
     "output_type": "stream",
     "text": [
      "[7, 9]\n"
     ]
    }
   ],
   "source": [
    "x = set([7,9])\n",
    "h = list(x)\n",
    "h.sort()\n",
    "print h"
   ]
  },
  {
   "cell_type": "code",
   "execution_count": 1,
   "metadata": {
    "collapsed": false
   },
   "outputs": [
    {
     "name": "stdout",
     "output_type": "stream",
     "text": [
      "\n",
      "\n"
     ]
    },
    {
     "ename": "ValueError",
     "evalue": "invalid literal for int() with base 10: ''",
     "output_type": "error",
     "traceback": [
      "\u001b[1;31m---------------------------------------------------------------------------\u001b[0m",
      "\u001b[1;31mValueError\u001b[0m                                Traceback (most recent call last)",
      "\u001b[1;32m<ipython-input-1-ac967ffb999e>\u001b[0m in \u001b[0;36m<module>\u001b[1;34m()\u001b[0m\n\u001b[0;32m      1\u001b[0m \u001b[1;31m#Union\u001b[0m\u001b[1;33m\u001b[0m\u001b[1;33m\u001b[0m\u001b[0m\n\u001b[0;32m      2\u001b[0m \u001b[0mE\u001b[0m \u001b[1;33m=\u001b[0m \u001b[0mset\u001b[0m\u001b[1;33m(\u001b[0m\u001b[0mmap\u001b[0m\u001b[1;33m(\u001b[0m\u001b[0mint\u001b[0m\u001b[1;33m,\u001b[0m \u001b[0mraw_input\u001b[0m\u001b[1;33m(\u001b[0m\u001b[1;33m)\u001b[0m\u001b[1;33m.\u001b[0m\u001b[0msplit\u001b[0m\u001b[1;33m(\u001b[0m\u001b[1;33m)\u001b[0m\u001b[1;33m)\u001b[0m\u001b[1;33m)\u001b[0m\u001b[1;33m\u001b[0m\u001b[0m\n\u001b[1;32m----> 3\u001b[1;33m \u001b[0mNF\u001b[0m \u001b[1;33m=\u001b[0m \u001b[0mint\u001b[0m\u001b[1;33m(\u001b[0m\u001b[0mraw_input\u001b[0m\u001b[1;33m(\u001b[0m\u001b[1;33m)\u001b[0m\u001b[1;33m)\u001b[0m\u001b[1;33m\u001b[0m\u001b[0m\n\u001b[0m\u001b[0;32m      4\u001b[0m \u001b[0mF\u001b[0m \u001b[1;33m=\u001b[0m \u001b[0mset\u001b[0m\u001b[1;33m(\u001b[0m\u001b[0mmap\u001b[0m\u001b[1;33m(\u001b[0m\u001b[0mint\u001b[0m\u001b[1;33m,\u001b[0m \u001b[0mraw_input\u001b[0m\u001b[1;33m(\u001b[0m\u001b[1;33m)\u001b[0m\u001b[1;33m.\u001b[0m\u001b[0msplit\u001b[0m\u001b[1;33m(\u001b[0m\u001b[1;33m)\u001b[0m\u001b[1;33m)\u001b[0m\u001b[1;33m)\u001b[0m\u001b[1;33m\u001b[0m\u001b[0m\n\u001b[0;32m      5\u001b[0m \u001b[1;32mprint\u001b[0m \u001b[0mlen\u001b[0m\u001b[1;33m(\u001b[0m\u001b[0mE\u001b[0m\u001b[1;33m.\u001b[0m\u001b[0munion\u001b[0m\u001b[1;33m(\u001b[0m\u001b[0mF\u001b[0m\u001b[1;33m)\u001b[0m\u001b[1;33m)\u001b[0m\u001b[1;33m\u001b[0m\u001b[0m\n",
      "\u001b[1;31mValueError\u001b[0m: invalid literal for int() with base 10: ''"
     ]
    }
   ],
   "source": [
    "#Union\n",
    "NE = int(raw_input())\n",
    "E = set(map(int, raw_input().split()))\n",
    "NF = int(raw_input())\n",
    "F = set(map(int, raw_input().split()))\n",
    "print len(E.union(F))"
   ]
  },
  {
   "cell_type": "code",
   "execution_count": 2,
   "metadata": {
    "collapsed": false
   },
   "outputs": [
    {
     "name": "stdout",
     "output_type": "stream",
     "text": [
      "\n"
     ]
    },
    {
     "ename": "ValueError",
     "evalue": "invalid literal for int() with base 10: ''",
     "output_type": "error",
     "traceback": [
      "\u001b[1;31m---------------------------------------------------------------------------\u001b[0m",
      "\u001b[1;31mValueError\u001b[0m                                Traceback (most recent call last)",
      "\u001b[1;32m<ipython-input-2-74265283320d>\u001b[0m in \u001b[0;36m<module>\u001b[1;34m()\u001b[0m\n\u001b[0;32m      1\u001b[0m \u001b[1;31m#Intersection\u001b[0m\u001b[1;33m\u001b[0m\u001b[1;33m\u001b[0m\u001b[0m\n\u001b[1;32m----> 2\u001b[1;33m \u001b[0mNE\u001b[0m \u001b[1;33m=\u001b[0m \u001b[0mint\u001b[0m\u001b[1;33m(\u001b[0m\u001b[0mraw_input\u001b[0m\u001b[1;33m(\u001b[0m\u001b[1;33m)\u001b[0m\u001b[1;33m)\u001b[0m\u001b[1;33m\u001b[0m\u001b[0m\n\u001b[0m\u001b[0;32m      3\u001b[0m \u001b[0mE\u001b[0m \u001b[1;33m=\u001b[0m \u001b[0mset\u001b[0m\u001b[1;33m(\u001b[0m\u001b[0mmap\u001b[0m\u001b[1;33m(\u001b[0m\u001b[0mint\u001b[0m\u001b[1;33m,\u001b[0m \u001b[0mraw_input\u001b[0m\u001b[1;33m(\u001b[0m\u001b[1;33m)\u001b[0m\u001b[1;33m.\u001b[0m\u001b[0msplit\u001b[0m\u001b[1;33m(\u001b[0m\u001b[1;33m)\u001b[0m\u001b[1;33m)\u001b[0m\u001b[1;33m)\u001b[0m\u001b[1;33m\u001b[0m\u001b[0m\n\u001b[0;32m      4\u001b[0m \u001b[0mNF\u001b[0m \u001b[1;33m=\u001b[0m \u001b[0mint\u001b[0m\u001b[1;33m(\u001b[0m\u001b[0mraw_input\u001b[0m\u001b[1;33m(\u001b[0m\u001b[1;33m)\u001b[0m\u001b[1;33m)\u001b[0m\u001b[1;33m\u001b[0m\u001b[0m\n\u001b[0;32m      5\u001b[0m \u001b[0mF\u001b[0m \u001b[1;33m=\u001b[0m \u001b[0mset\u001b[0m\u001b[1;33m(\u001b[0m\u001b[0mmap\u001b[0m\u001b[1;33m(\u001b[0m\u001b[0mint\u001b[0m\u001b[1;33m,\u001b[0m \u001b[0mraw_input\u001b[0m\u001b[1;33m(\u001b[0m\u001b[1;33m)\u001b[0m\u001b[1;33m.\u001b[0m\u001b[0msplit\u001b[0m\u001b[1;33m(\u001b[0m\u001b[1;33m)\u001b[0m\u001b[1;33m)\u001b[0m\u001b[1;33m)\u001b[0m\u001b[1;33m\u001b[0m\u001b[0m\n",
      "\u001b[1;31mValueError\u001b[0m: invalid literal for int() with base 10: ''"
     ]
    }
   ],
   "source": [
    "#Intersection\n",
    "NE = int(raw_input())\n",
    "E = set(map(int, raw_input().split()))\n",
    "NF = int(raw_input())\n",
    "F = set(map(int, raw_input().split()))\n",
    "print len(E.intersection(F))"
   ]
  },
  {
   "cell_type": "code",
   "execution_count": 3,
   "metadata": {
    "collapsed": false
   },
   "outputs": [
    {
     "name": "stdout",
     "output_type": "stream",
     "text": [
      "\n"
     ]
    },
    {
     "ename": "ValueError",
     "evalue": "invalid literal for int() with base 10: ''",
     "output_type": "error",
     "traceback": [
      "\u001b[1;31m---------------------------------------------------------------------------\u001b[0m",
      "\u001b[1;31mValueError\u001b[0m                                Traceback (most recent call last)",
      "\u001b[1;32m<ipython-input-3-6f530dc22f19>\u001b[0m in \u001b[0;36m<module>\u001b[1;34m()\u001b[0m\n\u001b[0;32m      1\u001b[0m \u001b[1;31m#Intersection\u001b[0m\u001b[1;33m\u001b[0m\u001b[1;33m\u001b[0m\u001b[0m\n\u001b[1;32m----> 2\u001b[1;33m \u001b[0mNE\u001b[0m \u001b[1;33m=\u001b[0m \u001b[0mint\u001b[0m\u001b[1;33m(\u001b[0m\u001b[0mraw_input\u001b[0m\u001b[1;33m(\u001b[0m\u001b[1;33m)\u001b[0m\u001b[1;33m)\u001b[0m\u001b[1;33m\u001b[0m\u001b[0m\n\u001b[0m\u001b[0;32m      3\u001b[0m \u001b[0mE\u001b[0m \u001b[1;33m=\u001b[0m \u001b[0mset\u001b[0m\u001b[1;33m(\u001b[0m\u001b[0mmap\u001b[0m\u001b[1;33m(\u001b[0m\u001b[0mint\u001b[0m\u001b[1;33m,\u001b[0m \u001b[0mraw_input\u001b[0m\u001b[1;33m(\u001b[0m\u001b[1;33m)\u001b[0m\u001b[1;33m.\u001b[0m\u001b[0msplit\u001b[0m\u001b[1;33m(\u001b[0m\u001b[1;33m)\u001b[0m\u001b[1;33m)\u001b[0m\u001b[1;33m)\u001b[0m\u001b[1;33m\u001b[0m\u001b[0m\n\u001b[0;32m      4\u001b[0m \u001b[0mNF\u001b[0m \u001b[1;33m=\u001b[0m \u001b[0mint\u001b[0m\u001b[1;33m(\u001b[0m\u001b[0mraw_input\u001b[0m\u001b[1;33m(\u001b[0m\u001b[1;33m)\u001b[0m\u001b[1;33m)\u001b[0m\u001b[1;33m\u001b[0m\u001b[0m\n\u001b[0;32m      5\u001b[0m \u001b[0mF\u001b[0m \u001b[1;33m=\u001b[0m \u001b[0mset\u001b[0m\u001b[1;33m(\u001b[0m\u001b[0mmap\u001b[0m\u001b[1;33m(\u001b[0m\u001b[0mint\u001b[0m\u001b[1;33m,\u001b[0m \u001b[0mraw_input\u001b[0m\u001b[1;33m(\u001b[0m\u001b[1;33m)\u001b[0m\u001b[1;33m.\u001b[0m\u001b[0msplit\u001b[0m\u001b[1;33m(\u001b[0m\u001b[1;33m)\u001b[0m\u001b[1;33m)\u001b[0m\u001b[1;33m)\u001b[0m\u001b[1;33m\u001b[0m\u001b[0m\n",
      "\u001b[1;31mValueError\u001b[0m: invalid literal for int() with base 10: ''"
     ]
    }
   ],
   "source": [
    "#Intersection\n",
    "NE = int(raw_input())\n",
    "E = set(map(int, raw_input().split()))\n",
    "NF = int(raw_input())\n",
    "F = set(map(int, raw_input().split()))\n",
    "print len(E.difference(F))"
   ]
  },
  {
   "cell_type": "code",
   "execution_count": 6,
   "metadata": {
    "collapsed": false
   },
   "outputs": [
    {
     "name": "stdout",
     "output_type": "stream",
     "text": [
      "\n"
     ]
    },
    {
     "ename": "ValueError",
     "evalue": "invalid literal for int() with base 10: ''",
     "output_type": "error",
     "traceback": [
      "\u001b[1;31m---------------------------------------------------------------------------\u001b[0m",
      "\u001b[1;31mValueError\u001b[0m                                Traceback (most recent call last)",
      "\u001b[1;32m<ipython-input-6-3ca571efce80>\u001b[0m in \u001b[0;36m<module>\u001b[1;34m()\u001b[0m\n\u001b[0;32m      1\u001b[0m \u001b[1;31m#Intersection\u001b[0m\u001b[1;33m\u001b[0m\u001b[1;33m\u001b[0m\u001b[0m\n\u001b[1;32m----> 2\u001b[1;33m \u001b[0mNE\u001b[0m \u001b[1;33m=\u001b[0m \u001b[0mint\u001b[0m\u001b[1;33m(\u001b[0m\u001b[0mraw_input\u001b[0m\u001b[1;33m(\u001b[0m\u001b[1;33m)\u001b[0m\u001b[1;33m)\u001b[0m\u001b[1;33m\u001b[0m\u001b[0m\n\u001b[0m\u001b[0;32m      3\u001b[0m \u001b[0mE\u001b[0m \u001b[1;33m=\u001b[0m \u001b[0mset\u001b[0m\u001b[1;33m(\u001b[0m\u001b[0mmap\u001b[0m\u001b[1;33m(\u001b[0m\u001b[0mint\u001b[0m\u001b[1;33m,\u001b[0m \u001b[0mraw_input\u001b[0m\u001b[1;33m(\u001b[0m\u001b[1;33m)\u001b[0m\u001b[1;33m.\u001b[0m\u001b[0msplit\u001b[0m\u001b[1;33m(\u001b[0m\u001b[1;33m)\u001b[0m\u001b[1;33m)\u001b[0m\u001b[1;33m)\u001b[0m\u001b[1;33m\u001b[0m\u001b[0m\n\u001b[0;32m      4\u001b[0m \u001b[0mNF\u001b[0m \u001b[1;33m=\u001b[0m \u001b[0mint\u001b[0m\u001b[1;33m(\u001b[0m\u001b[0mraw_input\u001b[0m\u001b[1;33m(\u001b[0m\u001b[1;33m)\u001b[0m\u001b[1;33m)\u001b[0m\u001b[1;33m\u001b[0m\u001b[0m\n\u001b[0;32m      5\u001b[0m \u001b[0mF\u001b[0m \u001b[1;33m=\u001b[0m \u001b[0mset\u001b[0m\u001b[1;33m(\u001b[0m\u001b[0mmap\u001b[0m\u001b[1;33m(\u001b[0m\u001b[0mint\u001b[0m\u001b[1;33m,\u001b[0m \u001b[0mraw_input\u001b[0m\u001b[1;33m(\u001b[0m\u001b[1;33m)\u001b[0m\u001b[1;33m.\u001b[0m\u001b[0msplit\u001b[0m\u001b[1;33m(\u001b[0m\u001b[1;33m)\u001b[0m\u001b[1;33m)\u001b[0m\u001b[1;33m)\u001b[0m\u001b[1;33m\u001b[0m\u001b[0m\n",
      "\u001b[1;31mValueError\u001b[0m: invalid literal for int() with base 10: ''"
     ]
    }
   ],
   "source": [
    "#Intersection\n",
    "NE = int(raw_input())\n",
    "E = set(map(int, raw_input().split()))\n",
    "NF = int(raw_input())\n",
    "F = set(map(int, raw_input().split()))\n",
    "print len(E.symmetric_difference(F))"
   ]
  },
  {
   "cell_type": "code",
   "execution_count": 31,
   "metadata": {
    "collapsed": false,
    "scrolled": true
   },
   "outputs": [
    {
     "name": "stdout",
     "output_type": "stream",
     "text": [
      "-80+25j\n",
      "83.8152730712\n",
      "2.83870778521\n"
     ]
    }
   ],
   "source": [
    "#Polar Coordinates\n",
    "#Enter equation 'x+yj' to determine radial distance and phase\n",
    "from math import sqrt\n",
    "from cmath import phase\n",
    "\n",
    "inp = list(map(str, raw_input()))\n",
    "for place in range(1, len(inp)):\n",
    "    if inp[place] == '+' or inp[place] == '-':\n",
    "        if inp[place] == '-': y = float(\"\".join(inp[(place+1): -1])) * -1\n",
    "        else:                 y = float(\"\".join(inp[(place+1): -1]))\n",
    "        if inp[0] == '-':     x = float(\"\".join(inp[1: place])) * -1\n",
    "        else:                 x = float(\"\".join(inp[0: place])) \n",
    "print sqrt((x**2) + (y**2))\n",
    "print phase(complex(x, y))"
   ]
  },
  {
   "cell_type": "code",
   "execution_count": 1,
   "metadata": {
    "collapsed": false
   },
   "outputs": [],
   "source": [
    "from math import asin, sqrt, degrees\n"
   ]
  },
  {
   "cell_type": "code",
   "execution_count": 6,
   "metadata": {
    "collapsed": false
   },
   "outputs": [],
   "source": [
    "def near_round(x):\n",
    "    num = str(x)\n",
    "    for i in range(len(num)):\n",
    "        if num[i] == '.':\n",
    "            if int(num[i+1]) >= 5: return int(num) + 1\n",
    "            else: return int(float(num))"
   ]
  },
  {
   "cell_type": "code",
   "execution_count": null,
   "metadata": {
    "collapsed": true
   },
   "outputs": [],
   "source": []
  },
  {
   "cell_type": "code",
   "execution_count": null,
   "metadata": {
    "collapsed": true
   },
   "outputs": [],
   "source": []
  },
  {
   "cell_type": "code",
   "execution_count": 10,
   "metadata": {
    "collapsed": false
   },
   "outputs": [
    {
     "name": "stdout",
     "output_type": "stream",
     "text": [
      "1\n",
      "10\n",
      "30°\n"
     ]
    }
   ],
   "source": [
    "#Find Angle MBC\n",
    "AB = int(raw_input())\n",
    "BC = int(raw_input())\n",
    "mc = sqrt((AB**2) + (BC**2))/2\n",
    "theta = asin(mc/BC)\n",
    "print str(near_round(degrees(theta))) + '°'"
   ]
  },
  {
   "cell_type": "code",
   "execution_count": null,
   "metadata": {
    "collapsed": true
   },
   "outputs": [],
   "source": [
    "#triangle quest\n"
   ]
  },
  {
   "cell_type": "code",
   "execution_count": 11,
   "metadata": {
    "collapsed": false
   },
   "outputs": [
    {
     "name": "stdout",
     "output_type": "stream",
     "text": [
      "xxx\n"
     ]
    }
   ],
   "source": [
    "print 'x'*3"
   ]
  },
  {
   "cell_type": "code",
   "execution_count": 13,
   "metadata": {
    "collapsed": false
   },
   "outputs": [
    {
     "name": "stdout",
     "output_type": "stream",
     "text": [
      "5\n",
      "1\n",
      "22\n",
      "333\n",
      "4444\n"
     ]
    }
   ],
   "source": [
    "for i in range(1,input()): print str(i)*i"
   ]
  },
  {
   "cell_type": "code",
   "execution_count": null,
   "metadata": {
    "collapsed": true
   },
   "outputs": [],
   "source": []
  },
  {
   "cell_type": "code",
   "execution_count": null,
   "metadata": {
    "collapsed": true
   },
   "outputs": [],
   "source": []
  },
  {
   "cell_type": "code",
   "execution_count": null,
   "metadata": {
    "collapsed": true
   },
   "outputs": [],
   "source": []
  },
  {
   "cell_type": "code",
   "execution_count": 6,
   "metadata": {
    "collapsed": false
   },
   "outputs": [
    {
     "name": "stdout",
     "output_type": "stream",
     "text": [
      "1 2\n",
      "3 4\n",
      "(1, 3) (1, 4) (2, 3) (2, 4)\n"
     ]
    }
   ],
   "source": [
    "#Iteration of all products\n",
    "from itertools import product\n",
    "A = list(map(int, raw_input().split(\" \")))\n",
    "B = list(map(int, raw_input().split(\" \")))\n",
    "AB = list(product(A,B))\n",
    "for i in AB:\n",
    "    print i,"
   ]
  },
  {
   "cell_type": "code",
   "execution_count": 21,
   "metadata": {
    "collapsed": false
   },
   "outputs": [
    {
     "name": "stdout",
     "output_type": "stream",
     "text": [
      "ABCD 3\n",
      "['ABCD', '3']\n",
      "3\n",
      "ABC\n",
      "ABD\n",
      "ACB\n",
      "ACD\n",
      "ADB\n",
      "ADC\n",
      "BAC\n",
      "BAD\n",
      "BCA\n",
      "BCD\n",
      "BDA\n",
      "BDC\n",
      "CAB\n",
      "CAD\n",
      "CBA\n",
      "CBD\n",
      "CDA\n",
      "CDB\n",
      "DAB\n",
      "DAC\n",
      "DBA\n",
      "DBC\n",
      "DCA\n",
      "DCB\n"
     ]
    }
   ],
   "source": [
    "#Itertools.permutations\n",
    "from itertools import permutations\n",
    "inp = list(map(str, raw_input().split(\" \")))\n",
    "x = int(inp[1])\n",
    "S = list(permutations(inp[0], x))\n",
    "S.sort()\n",
    "for i in S:\n",
    "    print \"\".join(i)"
   ]
  },
  {
   "cell_type": "code",
   "execution_count": 34,
   "metadata": {
    "collapsed": false
   },
   "outputs": [
    {
     "name": "stdout",
     "output_type": "stream",
     "text": [
      "HACK 2\n",
      "A\n",
      "C\n",
      "H\n",
      "K\n",
      "AC\n",
      "AH\n",
      "AK\n",
      "CH\n",
      "CK\n",
      "HK\n"
     ]
    }
   ],
   "source": [
    "#Itertools Combinations\n",
    "from itertools import combinations\n",
    "inp = list(map(str, raw_input().split(\" \")))\n",
    "num = int(inp[1])\n",
    "word = sorted(list(inp[0])) \n",
    "for i in range(1,num+1):\n",
    "    x = list(combinations(word, i))\n",
    "    for j in x:\n",
    "        print \"\".join(j)"
   ]
  },
  {
   "cell_type": "code",
   "execution_count": 36,
   "metadata": {
    "collapsed": false
   },
   "outputs": [
    {
     "name": "stdout",
     "output_type": "stream",
     "text": [
      "HACK 2\n",
      "AA\n",
      "AC\n",
      "AH\n",
      "AK\n",
      "CC\n",
      "CH\n",
      "CK\n",
      "HH\n",
      "HK\n",
      "KK\n"
     ]
    }
   ],
   "source": [
    "#Itertools Combinations with replacement\n",
    "from itertools import combinations_with_replacement\n",
    "inp = list(map(str, raw_input().split(\" \")))\n",
    "x = list(combinations_with_replacement(sorted(list(inp[0])), int(inp[1])))\n",
    "for i in x: print \"\".join(i)"
   ]
  },
  {
   "cell_type": "code",
   "execution_count": 76,
   "metadata": {
    "collapsed": false
   },
   "outputs": [
    {
     "name": "stdout",
     "output_type": "stream",
     "text": [
      "6 767\n",
      "2 488512261 423332742\n",
      "2 625040505 443232774\n",
      "1 4553600\n",
      "4 92134264 617699202 124100179 337650738\n",
      "2 778493847 932097163\n",
      "5 489894997 496724555 693361712 935903331 518538304\n",
      "763\n"
     ]
    }
   ],
   "source": [
    "#Maximize it!\n",
    "from itertools import product\n",
    "n = list(map(int, raw_input().split(\" \")))\n",
    "comb = []\n",
    "for i in range(n[0]):\n",
    "    a = list(map(int, raw_input().split(\" \")))\n",
    "    a.pop(0)\n",
    "    comb.append(a)\n",
    "hh = product(*comb)\n",
    "sums = []\n",
    "for i in hh:\n",
    "    temp = 0\n",
    "    for j in i:\n",
    "        temp += int(j)**2 \n",
    "    sums.append(temp%n[1])\n",
    "print max(sums)"
   ]
  },
  {
   "cell_type": "code",
   "execution_count": 81,
   "metadata": {
    "collapsed": false
   },
   "outputs": [
    {
     "name": "stdout",
     "output_type": "stream",
     "text": [
      "['001', '010', '001', '010', '100', '100']\n",
      "[0, 1]\n",
      "[(0, 0, 0), (0, 0, 1), (0, 1, 0), (0, 1, 1), (1, 0, 0), (1, 0, 1), (1, 1, 0), (1, 1, 1)]\n"
     ]
    }
   ],
   "source": [
    "from itertools import permutations\n",
    "hol = '001'\n",
    "x = list(permutations(hol, 3))\n",
    "dem = []\n",
    "for i in x:\n",
    "    dem.append(\"\".join(i))\n",
    "print dem\n",
    "\n",
    "print range(2)\n",
    "from itertools import product\n",
    "print list(product(range(2), repeat=3))"
   ]
  },
  {
   "cell_type": "code",
   "execution_count": 11,
   "metadata": {
    "collapsed": false
   },
   "outputs": [
    {
     "name": "stdout",
     "output_type": "stream",
     "text": [
      "\n"
     ]
    },
    {
     "ename": "ValueError",
     "evalue": "invalid literal for int() with base 10: ''",
     "output_type": "error",
     "traceback": [
      "\u001b[1;31m---------------------------------------------------------------------------\u001b[0m",
      "\u001b[1;31mValueError\u001b[0m                                Traceback (most recent call last)",
      "\u001b[1;32m<ipython-input-11-9fbf6f5863cc>\u001b[0m in \u001b[0;36m<module>\u001b[1;34m()\u001b[0m\n\u001b[0;32m      1\u001b[0m \u001b[1;31m#Collections counter\u001b[0m\u001b[1;33m\u001b[0m\u001b[1;33m\u001b[0m\u001b[0m\n\u001b[0;32m      2\u001b[0m \u001b[1;32mfrom\u001b[0m \u001b[0mcollections\u001b[0m \u001b[1;32mimport\u001b[0m \u001b[0mCounter\u001b[0m\u001b[1;33m\u001b[0m\u001b[0m\n\u001b[1;32m----> 3\u001b[1;33m \u001b[0mnum\u001b[0m \u001b[1;33m=\u001b[0m \u001b[0mint\u001b[0m\u001b[1;33m(\u001b[0m\u001b[0mraw_input\u001b[0m\u001b[1;33m(\u001b[0m\u001b[1;33m)\u001b[0m\u001b[1;33m)\u001b[0m\u001b[1;33m\u001b[0m\u001b[0m\n\u001b[0m\u001b[0;32m      4\u001b[0m \u001b[0msize\u001b[0m \u001b[1;33m=\u001b[0m \u001b[0mlist\u001b[0m\u001b[1;33m(\u001b[0m\u001b[0mmap\u001b[0m\u001b[1;33m(\u001b[0m\u001b[0mint\u001b[0m\u001b[1;33m,\u001b[0m \u001b[0mraw_input\u001b[0m\u001b[1;33m(\u001b[0m\u001b[1;33m)\u001b[0m\u001b[1;33m.\u001b[0m\u001b[0msplit\u001b[0m\u001b[1;33m(\u001b[0m\u001b[1;34m\" \"\u001b[0m\u001b[1;33m)\u001b[0m\u001b[1;33m)\u001b[0m\u001b[1;33m)\u001b[0m\u001b[1;33m\u001b[0m\u001b[0m\n\u001b[0;32m      5\u001b[0m \u001b[0mx\u001b[0m \u001b[1;33m=\u001b[0m \u001b[0mCounter\u001b[0m\u001b[1;33m(\u001b[0m\u001b[0msize\u001b[0m\u001b[1;33m)\u001b[0m\u001b[1;33m.\u001b[0m\u001b[0mkeys\u001b[0m\u001b[1;33m(\u001b[0m\u001b[1;33m)\u001b[0m\u001b[1;33m;\u001b[0m \u001b[0my\u001b[0m \u001b[1;33m=\u001b[0m \u001b[0mCounter\u001b[0m\u001b[1;33m(\u001b[0m\u001b[0msize\u001b[0m\u001b[1;33m)\u001b[0m\u001b[1;33m.\u001b[0m\u001b[0mvalues\u001b[0m\u001b[1;33m(\u001b[0m\u001b[1;33m)\u001b[0m\u001b[1;33m\u001b[0m\u001b[0m\n",
      "\u001b[1;31mValueError\u001b[0m: invalid literal for int() with base 10: ''"
     ]
    }
   ],
   "source": [
    "#Collections counter\n",
    "from collections import Counter\n",
    "num = int(raw_input())\n",
    "size = list(map(int, raw_input().split(\" \")))\n",
    "x = Counter(size).keys(); y = Counter(size).values() \n",
    "summ = 0\n",
    "h = int(raw_input())\n",
    "summ = 0\n",
    "for i in range(h):\n",
    "    buy = list(map(int, raw_input().split(\" \")))\n",
    "    for i in range(len(x)):\n",
    "        if x[i] == buy[0] and y[i] > 0:\n",
    "            y[i] -= 1\n",
    "            summ += buy[1]\n",
    "print summ"
   ]
  },
  {
   "cell_type": "code",
   "execution_count": 8,
   "metadata": {
    "collapsed": false
   },
   "outputs": [
    {
     "name": "stdout",
     "output_type": "stream",
     "text": [
      "\n"
     ]
    },
    {
     "ename": "ValueError",
     "evalue": "invalid literal for int() with base 10: ''",
     "output_type": "error",
     "traceback": [
      "\u001b[1;31m---------------------------------------------------------------------------\u001b[0m",
      "\u001b[1;31mValueError\u001b[0m                                Traceback (most recent call last)",
      "\u001b[1;32m<ipython-input-8-e348a826d0a6>\u001b[0m in \u001b[0;36m<module>\u001b[1;34m()\u001b[0m\n\u001b[1;32m----> 1\u001b[1;33m \u001b[0mh\u001b[0m \u001b[1;33m=\u001b[0m \u001b[0mint\u001b[0m\u001b[1;33m(\u001b[0m\u001b[0mraw_input\u001b[0m\u001b[1;33m(\u001b[0m\u001b[1;33m)\u001b[0m\u001b[1;33m)\u001b[0m\u001b[1;33m\u001b[0m\u001b[0m\n\u001b[0m\u001b[0;32m      2\u001b[0m \u001b[0msize\u001b[0m \u001b[1;33m=\u001b[0m \u001b[0mlist\u001b[0m\u001b[1;33m(\u001b[0m\u001b[0mmap\u001b[0m\u001b[1;33m(\u001b[0m\u001b[0mstr\u001b[0m\u001b[1;33m,\u001b[0m \u001b[0mraw_input\u001b[0m\u001b[1;33m(\u001b[0m\u001b[1;33m)\u001b[0m\u001b[1;33m.\u001b[0m\u001b[0msplit\u001b[0m\u001b[1;33m(\u001b[0m\u001b[1;33m)\u001b[0m\u001b[1;33m)\u001b[0m\u001b[1;33m)\u001b[0m\u001b[1;33m\u001b[0m\u001b[0m\n\u001b[0;32m      3\u001b[0m \u001b[1;32mprint\u001b[0m \u001b[0msize\u001b[0m\u001b[1;33m\u001b[0m\u001b[0m\n\u001b[0;32m      4\u001b[0m \u001b[0msumm\u001b[0m \u001b[1;33m=\u001b[0m \u001b[1;36m0\u001b[0m\u001b[1;33m\u001b[0m\u001b[0m\n\u001b[0;32m      5\u001b[0m \u001b[1;32mfor\u001b[0m \u001b[0mi\u001b[0m \u001b[1;32min\u001b[0m \u001b[0mrange\u001b[0m\u001b[1;33m(\u001b[0m\u001b[0mlen\u001b[0m\u001b[1;33m(\u001b[0m\u001b[0msize\u001b[0m\u001b[1;33m)\u001b[0m\u001b[1;33m)\u001b[0m\u001b[1;33m:\u001b[0m\u001b[1;33m\u001b[0m\u001b[0m\n",
      "\u001b[1;31mValueError\u001b[0m: invalid literal for int() with base 10: ''"
     ]
    }
   ],
   "source": [
    "h = int(raw_input())\n",
    "size = list(map(str, raw_input().split()))\n",
    "#print size\n",
    "summ = 0\n",
    "for i in range(len(size)): \n",
    "    if size[i] == 'MARKS': \n",
    "        for j in range(h): \n",
    "            nums = list(map(str, raw_input().split()))\n",
    "            #print nums\n",
    "            summ += int(nums[i])\n",
    "print \"%.2f\" % (float(summ)/float(h))"
   ]
  },
  {
   "cell_type": "code",
   "execution_count": 9,
   "metadata": {
    "collapsed": false
   },
   "outputs": [
    {
     "name": "stdout",
     "output_type": "stream",
     "text": [
      "5 3\n",
      "89 90 78 93 80\n",
      "90 91 85 88 86 \n",
      "91 92 83 89 90.5\n",
      "[[89.0, 90.0, 78.0, 93.0, 80.0], [90.0, 91.0, 85.0, 88.0, 86.0], [91.0, 92.0, 83.0, 89.0, 90.5]]\n"
     ]
    }
   ],
   "source": [
    "# Enter your code here. Read input from STDIN. Print output to STDOUT\n",
    "nums = list(map(int, raw_input().split()))\n",
    "al = []\n",
    "for i in range(nums[1]):\n",
    "    h = list(map(float, raw_input().split()))\n",
    "    al.append(h)\n",
    "c = zip(*al)\n",
    "for i in c:\n",
    "    summ = 0\n",
    "    for j in i: summ += j\n",
    "    print \"%.1f\" % (summ/nums[1])"
   ]
  },
  {
   "cell_type": "code",
   "execution_count": 2,
   "metadata": {
    "collapsed": false
   },
   "outputs": [
    {
     "name": "stdout",
     "output_type": "stream",
     "text": [
      "1 4\n",
      "x**3 + x**2 + x + 1\n"
     ]
    },
    {
     "ename": "NameError",
     "evalue": "name 'x' is not defined",
     "output_type": "error",
     "traceback": [
      "\u001b[1;31m---------------------------------------------------------------------------\u001b[0m",
      "\u001b[1;31mNameError\u001b[0m                                 Traceback (most recent call last)",
      "\u001b[1;32m<ipython-input-2-e6cee0bf660b>\u001b[0m in \u001b[0;36m<module>\u001b[1;34m()\u001b[0m\n\u001b[0;32m      2\u001b[0m \u001b[0mnums\u001b[0m \u001b[1;33m=\u001b[0m \u001b[0mlist\u001b[0m\u001b[1;33m(\u001b[0m\u001b[0mmap\u001b[0m\u001b[1;33m(\u001b[0m\u001b[0mint\u001b[0m\u001b[1;33m,\u001b[0m \u001b[0mraw_input\u001b[0m\u001b[1;33m(\u001b[0m\u001b[1;33m)\u001b[0m\u001b[1;33m.\u001b[0m\u001b[0msplit\u001b[0m\u001b[1;33m(\u001b[0m\u001b[1;33m)\u001b[0m\u001b[1;33m)\u001b[0m\u001b[1;33m)\u001b[0m\u001b[1;33m\u001b[0m\u001b[0m\n\u001b[0;32m      3\u001b[0m \u001b[0mx\u001b[0m \u001b[1;33m=\u001b[0m \u001b[0mnums\u001b[0m\u001b[1;33m[\u001b[0m\u001b[1;36m0\u001b[0m\u001b[1;33m]\u001b[0m\u001b[1;33m\u001b[0m\u001b[0m\n\u001b[1;32m----> 4\u001b[1;33m \u001b[1;32mif\u001b[0m \u001b[0mnums\u001b[0m\u001b[1;33m[\u001b[0m\u001b[1;36m1\u001b[0m\u001b[1;33m]\u001b[0m \u001b[1;33m==\u001b[0m \u001b[0minput\u001b[0m\u001b[1;33m(\u001b[0m\u001b[1;33m)\u001b[0m\u001b[1;33m:\u001b[0m \u001b[1;32mprint\u001b[0m \u001b[1;34m\"True\"\u001b[0m\u001b[1;33m\u001b[0m\u001b[0m\n\u001b[0m\u001b[0;32m      5\u001b[0m \u001b[1;32melse\u001b[0m\u001b[1;33m:\u001b[0m                  \u001b[1;32mprint\u001b[0m \u001b[1;34m\"False\"\u001b[0m\u001b[1;33m\u001b[0m\u001b[0m\n",
      "\u001b[1;32mC:\\Users\\Stephan\\Anaconda\\lib\\site-packages\\ipykernel\\ipkernel.pyc\u001b[0m in \u001b[0;36m<lambda>\u001b[1;34m(prompt)\u001b[0m\n\u001b[0;32m    139\u001b[0m             \u001b[0mself\u001b[0m\u001b[1;33m.\u001b[0m\u001b[0m_sys_eval_input\u001b[0m \u001b[1;33m=\u001b[0m \u001b[0mbuiltin_mod\u001b[0m\u001b[1;33m.\u001b[0m\u001b[0minput\u001b[0m\u001b[1;33m\u001b[0m\u001b[0m\n\u001b[0;32m    140\u001b[0m             \u001b[0mbuiltin_mod\u001b[0m\u001b[1;33m.\u001b[0m\u001b[0mraw_input\u001b[0m \u001b[1;33m=\u001b[0m \u001b[0mself\u001b[0m\u001b[1;33m.\u001b[0m\u001b[0mraw_input\u001b[0m\u001b[1;33m\u001b[0m\u001b[0m\n\u001b[1;32m--> 141\u001b[1;33m             \u001b[0mbuiltin_mod\u001b[0m\u001b[1;33m.\u001b[0m\u001b[0minput\u001b[0m \u001b[1;33m=\u001b[0m \u001b[1;32mlambda\u001b[0m \u001b[0mprompt\u001b[0m\u001b[1;33m=\u001b[0m\u001b[1;34m''\u001b[0m\u001b[1;33m:\u001b[0m \u001b[0meval\u001b[0m\u001b[1;33m(\u001b[0m\u001b[0mself\u001b[0m\u001b[1;33m.\u001b[0m\u001b[0mraw_input\u001b[0m\u001b[1;33m(\u001b[0m\u001b[0mprompt\u001b[0m\u001b[1;33m)\u001b[0m\u001b[1;33m)\u001b[0m\u001b[1;33m\u001b[0m\u001b[0m\n\u001b[0m\u001b[0;32m    142\u001b[0m         \u001b[0mself\u001b[0m\u001b[1;33m.\u001b[0m\u001b[0m_save_getpass\u001b[0m \u001b[1;33m=\u001b[0m \u001b[0mgetpass\u001b[0m\u001b[1;33m.\u001b[0m\u001b[0mgetpass\u001b[0m\u001b[1;33m\u001b[0m\u001b[0m\n\u001b[0;32m    143\u001b[0m         \u001b[0mgetpass\u001b[0m\u001b[1;33m.\u001b[0m\u001b[0mgetpass\u001b[0m \u001b[1;33m=\u001b[0m \u001b[0mself\u001b[0m\u001b[1;33m.\u001b[0m\u001b[0mgetpass\u001b[0m\u001b[1;33m\u001b[0m\u001b[0m\n",
      "\u001b[1;32mC:\\Users\\Stephan\\Anaconda\\lib\\site-packages\\ipykernel\\ipkernel.pyc\u001b[0m in \u001b[0;36m<module>\u001b[1;34m()\u001b[0m\n",
      "\u001b[1;31mNameError\u001b[0m: name 'x' is not defined"
     ]
    }
   ],
   "source": [
    "#Input() (Works in python 2)\n",
    "nums = list(map(int, raw_input().split()))\n",
    "x = nums[0]\n",
    "if nums[1] == input(): print \"True\"\n",
    "else:                  print \"False\""
   ]
  },
  {
   "cell_type": "code",
   "execution_count": 3,
   "metadata": {
    "collapsed": false
   },
   "outputs": [
    {
     "name": "stdout",
     "output_type": "stream",
     "text": [
      "print(2+3)\n",
      "5\n"
     ]
    }
   ],
   "source": [
    "#Python evaluation\n",
    "from __future__ import print_function\n",
    "eval(raw_input())"
   ]
  },
  {
   "cell_type": "code",
   "execution_count": 51,
   "metadata": {
    "collapsed": false
   },
   "outputs": [
    {
     "name": "stdout",
     "output_type": "stream",
     "text": [
      "3\n",
      "123 5 6\n",
      "123 532 1\n",
      "123 1 1\n",
      "1\n",
      "123 1 1\n",
      "123 5 6\n",
      "123 532 1\n"
     ]
    }
   ],
   "source": [
    "#Sort Data\n",
    "from operator import itemgetter\n",
    "a = list(map(int, raw_input().split())); sing = []; h = []\n",
    "for i in range(a[0]):\n",
    "    x = list(map(int, raw_input().split()))\n",
    "    sing.append(x)\n",
    "pos = int(raw_input())\n",
    "ordered = sorted(sing, key=itemgetter(pos))\n",
    "for i in ordered:\n",
    "    temp = []\n",
    "    for j in i:\n",
    "        temp.append(str(j))\n",
    "    print \" \".join(temp)"
   ]
  },
  {
   "cell_type": "code",
   "execution_count": 62,
   "metadata": {
    "collapsed": false
   },
   "outputs": [
    {
     "name": "stdout",
     "output_type": "stream",
     "text": [
      "True\n"
     ]
    }
   ],
   "source": [
    "#Any or all\n",
    "inp = int(raw_input())\n",
    "nums = list(map(str, raw_input().split()))\n",
    "mtz = []; pal = []\n",
    "for i in range(len(nums)):\n",
    "    mtz.append(int(nums[i]) > 0)\n",
    "    pal.append(nums[i] == nums[i][::-1])\n",
    "print all([all(mtz), any(pal)])"
   ]
  },
  {
   "cell_type": "code",
   "execution_count": 133,
   "metadata": {
    "collapsed": false
   },
   "outputs": [
    {
     "name": "stdout",
     "output_type": "stream",
     "text": [
      "ortingS1324\n"
     ]
    }
   ],
   "source": [
    "#ginortS\n",
    "def lowupdig(inp):\n",
    "    if inp.islower():     return inp*-1\n",
    "    elif inp.isupper():   return -1\n",
    "    elif int(inp)%2 == 0: return -3\n",
    "    elif inp:             return -2\n",
    "    \n",
    "st = 'Sorting1234'\n",
    "x = sorted(st, key = lowupdig, reverse = True)\n",
    "print \"\".join(x)"
   ]
  },
  {
   "cell_type": "code",
   "execution_count": null,
   "metadata": {
    "collapsed": true
   },
   "outputs": [],
   "source": []
  },
  {
   "cell_type": "code",
   "execution_count": 70,
   "metadata": {
    "collapsed": false
   },
   "outputs": [
    {
     "name": "stdout",
     "output_type": "stream",
     "text": [
      "['1', 'A', 'B', 'a', 'c']\n"
     ]
    }
   ],
   "source": [
    "a = ['1', 'a', 'B', 'c', 'A']\n",
    "print sorted(a, key = .islower, .isupper, .isdigit)"
   ]
  },
  {
   "cell_type": "code",
   "execution_count": 139,
   "metadata": {
    "collapsed": false
   },
   "outputs": [
    {
     "name": "stdout",
     "output_type": "stream",
     "text": [
      "2\n",
      "1 0\n",
      "Error Code: integer division or modulo by zero\n",
      "2 $\n",
      "Error Code: invalid literal for int() with base 10: '$'\n"
     ]
    }
   ],
   "source": [
    "#Exceptions\n",
    "n = int(raw_input())\n",
    "for i in range(n):\n",
    "    inp = list(raw_input().split())\n",
    "    try:\n",
    "        print int(inp[0])/int(inp[1])\n",
    "    except ZeroDivisionError as e:\n",
    "        print \"Error Code:\", e\n",
    "    except ValueError as a:\n",
    "        print \"Error Code:\", a"
   ]
  },
  {
   "cell_type": "code",
   "execution_count": 140,
   "metadata": {
    "collapsed": false
   },
   "outputs": [
    {
     "name": "stdout",
     "output_type": "stream",
     "text": [
      "2\n",
      ".*\\+\n",
      "True\n",
      ".*+\n",
      "False\n"
     ]
    }
   ],
   "source": [
    "#Incorrect Regex\n",
    "def regex_checker():\n",
    "    import re\n",
    "    print \"Number of Regex to Check: \"\n",
    "    n = int(raw_input())\n",
    "    for i in range(n):\n",
    "        try:\n",
    "            re.compile(str(raw_input()))\n",
    "            print \"Valid Regex\"\n",
    "        except re.error:\n",
    "            print \"Invalid Regex\""
   ]
  },
  {
   "cell_type": "code",
   "execution_count": 6,
   "metadata": {
    "collapsed": false
   },
   "outputs": [
    {
     "name": "stdout",
     "output_type": "stream",
     "text": [
      "5\n",
      "[0, 1, 1, 8, 27]\n"
     ]
    }
   ],
   "source": [
    "#Fib Cubed\n",
    "inp = int(raw_input())\n",
    "fibs = []\n",
    "for i in range(0, inp): \n",
    "    if i == 0:  fibs.append(0)\n",
    "    elif i == 1:fibs.append(1)\n",
    "    else:       fibs.append(fibs[i-1] + fibs[i-2])\n",
    "cubed = lambda a: a**3\n",
    "print map(cubed, fibs)"
   ]
  },
  {
   "cell_type": "code",
   "execution_count": 4,
   "metadata": {
    "collapsed": false
   },
   "outputs": [
    {
     "name": "stdout",
     "output_type": "stream",
     "text": [
      "1\n",
      "@somthing.com\n",
      "[]\n"
     ]
    }
   ],
   "source": [
    "#Validating Email Addresses with a Filter\n",
    "n = int(raw_input())\n",
    "em_list = []\n",
    "for i in range(n):\n",
    "    at, dot, quals = 0, 0, 0\n",
    "    inp = str(raw_input())\n",
    "    valid_usr, valid_web, valid_ext = False, False, False\n",
    "    for j in range(len(inp)):\n",
    "        if inp[j] == '@':\n",
    "            usrname = inp[0:j]\n",
    "            valid_usr_chr = []\n",
    "            for k in usrname: valid_usr_chr.append(k.isalpha() or k.isdigit() or k == '-' or k == '_')\n",
    "            if not valid_usr_chr: valid_usr = False\n",
    "            else: valid_usr = all(valid_usr_chr)\n",
    "            #print usrname, valid_usr\n",
    "            at = j\n",
    "        if inp[j] == '.': \n",
    "            web = inp[at+1:j]\n",
    "            valid_web_chr = []\n",
    "            for k in web: valid_web_chr.append(k.isalpha() or k.isdigit())\n",
    "            #print valid_web_chr\n",
    "            valid_web = all(valid_web_chr)\n",
    "            #print valid_web\n",
    "            ext = inp[j+1::]\n",
    "            valid_ext = (len(ext) < 4)\n",
    "            #print web, valid_web; print ext, valid_ext\n",
    "    if all([valid_usr, valid_web, valid_ext]):\n",
    "        em_list.append(inp)\n",
    "print sorted(em_list)"
   ]
  },
  {
   "cell_type": "code",
   "execution_count": null,
   "metadata": {
    "collapsed": false
   },
   "outputs": [],
   "source": [
    "#Introduction to Regex Module\n",
    "import re\n",
    "n = str(raw_input())\n",
    "re.match()"
   ]
  },
  {
   "cell_type": "code",
   "execution_count": 9,
   "metadata": {
    "collapsed": false
   },
   "outputs": [
    {
     "name": "stdout",
     "output_type": "stream",
     "text": [
      "True\n"
     ]
    }
   ],
   "source": [
    "import re\n",
    "print bool(re.match(r\"s\", \"similarly\"))"
   ]
  },
  {
   "cell_type": "code",
   "execution_count": 21,
   "metadata": {
    "collapsed": false
   },
   "outputs": [
    {
     "ename": "SyntaxError",
     "evalue": "invalid syntax (<ipython-input-21-adbf384c9a53>, line 4)",
     "output_type": "error",
     "traceback": [
      "\u001b[1;36m  File \u001b[1;32m\"<ipython-input-21-adbf384c9a53>\"\u001b[1;36m, line \u001b[1;32m4\u001b[0m\n\u001b[1;33m    for i in x: if i: print i\u001b[0m\n\u001b[1;37m                 ^\u001b[0m\n\u001b[1;31mSyntaxError\u001b[0m\u001b[1;31m:\u001b[0m invalid syntax\n"
     ]
    }
   ],
   "source": [
    "#Re.split()\n",
    "import re\n",
    "x = re.split(\"[,.]\", str(raw_input()))\n",
    "for i in x: \n",
    "    if i: print i"
   ]
  },
  {
   "cell_type": "code",
   "execution_count": null,
   "metadata": {
    "collapsed": true
   },
   "outputs": [],
   "source": [
    "#Group(), Groups() & Groupdict()\n"
   ]
  },
  {
   "cell_type": "code",
   "execution_count": null,
   "metadata": {
    "collapsed": true
   },
   "outputs": [],
   "source": []
  },
  {
   "cell_type": "code",
   "execution_count": null,
   "metadata": {
    "collapsed": true
   },
   "outputs": [],
   "source": []
  },
  {
   "cell_type": "code",
   "execution_count": null,
   "metadata": {
    "collapsed": true
   },
   "outputs": [],
   "source": []
  },
  {
   "cell_type": "code",
   "execution_count": null,
   "metadata": {
    "collapsed": true
   },
   "outputs": [],
   "source": []
  },
  {
   "cell_type": "code",
   "execution_count": null,
   "metadata": {
    "collapsed": true
   },
   "outputs": [],
   "source": []
  },
  {
   "cell_type": "code",
   "execution_count": null,
   "metadata": {
    "collapsed": true
   },
   "outputs": [],
   "source": []
  },
  {
   "cell_type": "code",
   "execution_count": null,
   "metadata": {
    "collapsed": true
   },
   "outputs": [],
   "source": []
  },
  {
   "cell_type": "code",
   "execution_count": null,
   "metadata": {
    "collapsed": true
   },
   "outputs": [],
   "source": []
  },
  {
   "cell_type": "code",
   "execution_count": 10,
   "metadata": {
    "collapsed": true
   },
   "outputs": [],
   "source": [
    "x = '01234567891'"
   ]
  },
  {
   "cell_type": "code",
   "execution_count": null,
   "metadata": {
    "collapsed": true
   },
   "outputs": [],
   "source": []
  },
  {
   "cell_type": "code",
   "execution_count": null,
   "metadata": {
    "collapsed": true
   },
   "outputs": [],
   "source": []
  },
  {
   "cell_type": "code",
   "execution_count": null,
   "metadata": {
    "collapsed": true
   },
   "outputs": [],
   "source": []
  },
  {
   "cell_type": "code",
   "execution_count": null,
   "metadata": {
    "collapsed": true
   },
   "outputs": [],
   "source": []
  },
  {
   "cell_type": "code",
   "execution_count": null,
   "metadata": {
    "collapsed": true
   },
   "outputs": [],
   "source": []
  },
  {
   "cell_type": "code",
   "execution_count": 11,
   "metadata": {
    "collapsed": false
   },
   "outputs": [
    {
     "data": {
      "text/plain": [
       "'\\nInput\\n3\\n07895462130\\n919875641230\\n9195969878\\n\\nOutput\\n+91 78954 62130\\n+91 91959 69878\\n+91 98756 41230\\n'"
      ]
     },
     "execution_count": 11,
     "metadata": {},
     "output_type": "execute_result"
    }
   ],
   "source": [
    "'''\n",
    "Input\n",
    "3\n",
    "07895462130\n",
    "919875641230\n",
    "9195969878\n",
    "\n",
    "Output\n",
    "+91 78954 62130\n",
    "+91 91959 69878\n",
    "+91 98756 41230\n",
    "'''"
   ]
  },
  {
   "cell_type": "code",
   "execution_count": null,
   "metadata": {
    "collapsed": true
   },
   "outputs": [],
   "source": [
    "#Standardizing mobile numbers using Decorators\n",
    "n = int(raw_input())\n",
    "for i in range(n):\n",
    "    "
   ]
  },
  {
   "cell_type": "code",
   "execution_count": null,
   "metadata": {
    "collapsed": true
   },
   "outputs": [],
   "source": []
  }
 ],
 "metadata": {
  "kernelspec": {
   "display_name": "Python 2",
   "language": "python",
   "name": "python2"
  },
  "language_info": {
   "codemirror_mode": {
    "name": "ipython",
    "version": 2
   },
   "file_extension": ".py",
   "mimetype": "text/x-python",
   "name": "python",
   "nbconvert_exporter": "python",
   "pygments_lexer": "ipython2",
   "version": "2.7.11"
  }
 },
 "nbformat": 4,
 "nbformat_minor": 0
}
